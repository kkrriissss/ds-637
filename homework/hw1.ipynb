{
 "cells": [
  {
   "cell_type": "code",
   "execution_count": null,
   "id": "859a8898",
   "metadata": {},
   "outputs": [],
   "source": [
    "import numpy as np\n",
    "import pandas as pd\n",
    "import matplotlib.pyplot as plt"
   ]
  },
  {
   "cell_type": "markdown",
   "id": "6d3017c5",
   "metadata": {},
   "source": [
    "## 1) Python Fundamentals — variables, types, I/O\n",
    "**Task:**  \n",
    "1. Create variables: `student_name (str)`, `age (int)`, `height_m (float)`, `is_full_time (bool)`.  \n",
    "2. Convert `age` to string and print: `\"Alice is 21 years old.\"` (use an f-string).  \n",
    "3. Ask for a year of birth with `input()` and print the computed age assuming the current year is 2025 (convert types properly).\n"
   ]
  },
  {
   "cell_type": "code",
   "execution_count": null,
   "id": "7d73f258",
   "metadata": {},
   "outputs": [],
   "source": [
    "#part 1\n",
    "student_name = \"Alice\"\n",
    "age = 21\n",
    "height_m = 1.70\n",
    "is_full_time = True\n",
    "\n",
    "#part 2\n",
    "print(f\"{student_name} is {str(age)} years old.\")\n",
    "\n",
    "#part 3\n",
    "yob = input(\"Year of Birth: \")\n",
    "year = 2025\n",
    "userage = year - int(yob)\n",
    "print(f\"Age: {userage} years old in {year}.\")\n"
   ]
  },
  {
   "cell_type": "markdown",
   "id": "13a64786",
   "metadata": {},
   "source": [
    "## 2) Operators — arithmetic, relational, logical\n",
    "**Task:**  \n",
    "Given `a = 15`, `b = 4`  \n",
    "1. Compute: sum, difference, product, true division, floor division, modulus, and `a` to the power `b`.  \n",
    "2. Create booleans: `is_multiple_of_3` (for `a`), `b_in_range` (check `1 ≤ b < 10`).  \n",
    "3. Use logical operators to compute `ok = is_multiple_of_3 and b_in_range`.\n"
   ]
  },
  {
   "cell_type": "code",
   "execution_count": null,
   "id": "9b9ab79e",
   "metadata": {},
   "outputs": [],
   "source": [
    "a = 15\n",
    "b = 4\n",
    "\n",
    "#part 1\n",
    "sum = a + b\n",
    "print(\"Sum:\", sum)\n",
    "difference = a - b\n",
    "print(\"Difference:\", difference)\n",
    "product = a * b\n",
    "print(\"Product:\", product)\n",
    "truedivision = a / b\n",
    "print(\"True Division:\", truedivision)\n",
    "floordivision = a // b\n",
    "print(\"Floor Division:\", floordivision)\n",
    "modulus = a % b\n",
    "print(\"Modulus:\", modulus)\n",
    "power = a ** b\n",
    "print(\"Power:\", power)\n",
    "\n",
    "#part 2\n",
    "is_multiple_of_3 = (a % 3 == 0)\n",
    "print(is_multiple_of_3)\n",
    "b_in_range = (1 <= b < 10)\n",
    "print(b_in_range)\n",
    "\n",
    "#part 3\n",
    "ok = is_multiple_of_3 and b_in_range\n",
    "print(ok)\n"
   ]
  },
  {
   "cell_type": "markdown",
   "id": "e0cf882d",
   "metadata": {},
   "source": [
    "## 3) Strings — indexing, slicing, methods\n",
    "**Task:**  \n",
    "Given `s = \"Data Science\"`  \n",
    "1. Extract first char, last 3 chars, and the substring `\"Sci\"`.  \n",
    "2. Produce a reversed version of `s`.  \n",
    "3. Convert to upper and lower.  \n",
    "4. Split `\"first,last,dept\"` by comma and then join back with `\" | \"`.\n"
   ]
  },
  {
   "cell_type": "code",
   "execution_count": 4,
   "id": "2c52c5db",
   "metadata": {},
   "outputs": [
    {
     "name": "stdout",
     "output_type": "stream",
     "text": [
      "First character: D\n",
      "Last character: e\n",
      "Substring: Sci\n",
      "Reversed: ecneicS ataD\n",
      "All uppercase: DATA SCIENCE\n",
      "All lowercase: data science\n",
      "Final text:  first | last | dept\n"
     ]
    }
   ],
   "source": [
    "s = \"Data Science\"\n",
    "\n",
    "#part 1\n",
    "firstchar = s[0]\n",
    "print(\"First character:\", firstchar)\n",
    "lastchar = s[-1]\n",
    "print(\"Last character:\", lastchar)\n",
    "substring = s[5:8]\n",
    "print(\"Substring:\", substring)\n",
    "\n",
    "#part 2\n",
    "print(\"Reversed:\", s[::-1])\n",
    "\n",
    "#part 3\n",
    "print(\"All uppercase:\", s.upper())\n",
    "print(\"All lowercase:\", s.lower())\n",
    "\n",
    "#part 4\n",
    "text = \"first,last,dept\"\n",
    "split = text.split(\",\")\n",
    "print(\"Final text: \", \" | \".join(split))\n",
    "\n"
   ]
  },
  {
   "cell_type": "markdown",
   "id": "5878819c",
   "metadata": {},
   "source": [
    "## 4) Collections — lists, tuples, sets, dicts\n",
    "**Task:**  \n",
    "1. **List:** Start with `nums = [5, 2, 9]`. Append `7`, insert `3` at index 1, sort ascending.  \n",
    "2. **Tuple:** Create a tuple `point = (3, 4)` and compute its length (no mutation).  \n",
    "3. **Set:** From `[1,2,2,3,4,4]` make a set and compute union and intersection with `{3,4,5}`.  \n",
    "4. **Dict:** Given `student = {\"name\": \"Nikita\", \"scores\": [88, 92, 79]}`, compute the average score. Iterate to print `key: value`.\n"
   ]
  },
  {
   "cell_type": "code",
   "execution_count": 3,
   "id": "563388a0",
   "metadata": {},
   "outputs": [
    {
     "name": "stdout",
     "output_type": "stream",
     "text": [
      "[2, 3, 5, 7, 9]\n",
      "2\n",
      "union: {1, 2, 3, 4, 5}\n",
      "intersection: {3, 4}\n",
      "average =  86.33333333333333\n",
      "name : Nikita\n",
      "scores : [88, 92, 79]\n"
     ]
    }
   ],
   "source": [
    "#part 1\n",
    "nums = [5, 2, 9]\n",
    "nums.append(7)\n",
    "nums.insert(1, 3)\n",
    "nums.sort()\n",
    "print(nums)\n",
    "\n",
    "#part 2\n",
    "point = (3,4)\n",
    "print(len(point))\n",
    "\n",
    "#part 3\n",
    "data = set([1,2,2,3,4,4])\n",
    "x = {3,4,5}\n",
    "print(\"union:\", data | x)\n",
    "print(\"intersection:\", data & x)\n",
    "\n",
    "#part 4\n",
    "student = {\"name\": \"Nikita\", \"scores\": [88, 92, 79]}\n",
    "total = sum(student[\"scores\"])\n",
    "average = total / len(student[\"scores\"])\n",
    "print(\"average = \", average)\n",
    "for key, value in student.items():\n",
    "    print(key, \":\", value)\n",
    "\n",
    "\n"
   ]
  },
  {
   "cell_type": "markdown",
   "id": "88e8830e",
   "metadata": {},
   "source": [
    "## 5) Control Flow — if/elif/else, loops, break/continue/pass\n",
    "**Task:**  \n",
    "1. **If/elif/else:** Categorize `score` into A (≥90), B (≥80), C (≥70), else D/F.  \n",
    "2. **for+range:** Sum all multiples of 3 from 1..50.  \n",
    "3. **Iterate list:** From `vals = [3, -1, 7, 0, -5, 8]`, build `nonnegatives` skipping negatives (use `continue`). Stop when you hit the first 0 (use `break`).  \n",
    "4. **while:** Print powers of 2 up to 1024.  \n",
    "5. Use `pass` as a placeholder inside an empty function `todo()`.\n"
   ]
  },
  {
   "cell_type": "code",
   "execution_count": null,
   "id": "55cfa396",
   "metadata": {},
   "outputs": [],
   "source": []
  },
  {
   "cell_type": "markdown",
   "id": "7494a35e",
   "metadata": {},
   "source": [
    "## 6) Functions — def, params, return, scope, lambda\n",
    "**Task:**  \n",
    "1. Define `net_price(price, tax=0.1, discount=0.0)` returning final price: `price * (1+tax) * (1-discount)`.  \n",
    "2. Write `clip(x, lo=0, hi=1)` that clamps `x` into `[lo, hi]`.  \n",
    "3. Show scope: a global `counter = 0`, function `bump()` increments it (use `global`).  \n",
    "4. Use a **lambda** with `sorted` to sort `names = [\"Ada\", \"Grace\", \"Marie\", \"Rosalind\"]` by length, then alphabetically as tiebreaker.\n"
   ]
  }
 ],
 "metadata": {
  "kernelspec": {
   "display_name": "Python 3",
   "language": "python",
   "name": "python3"
  },
  "language_info": {
   "codemirror_mode": {
    "name": "ipython",
    "version": 3
   },
   "file_extension": ".py",
   "mimetype": "text/x-python",
   "name": "python",
   "nbconvert_exporter": "python",
   "pygments_lexer": "ipython3",
   "version": "3.12.10"
  }
 },
 "nbformat": 4,
 "nbformat_minor": 5
}
