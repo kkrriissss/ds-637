{
 "cells": [
  {
   "cell_type": "code",
   "execution_count": 2,
   "id": "f8686c76",
   "metadata": {},
   "outputs": [],
   "source": [
    "import numpy as np"
   ]
  },
  {
   "cell_type": "markdown",
   "id": "21773a27",
   "metadata": {},
   "source": [
    "*Question 1*\n",
    "\n",
    "Create an array x= [1.2.3.4.5].\n",
    "\n",
    "Compute y = 2x^2 + 3x+ 1 wihtout using any loops\n",
    "\n",
    "Question. What is the shape of y"
   ]
  },
  {
   "cell_type": "code",
   "execution_count": null,
   "id": "9a86e13b",
   "metadata": {},
   "outputs": [
    {
     "name": "stdout",
     "output_type": "stream",
     "text": [
      "[ 6 15 28 45 66]\n",
      "(5,)\n"
     ]
    }
   ],
   "source": [
    "x = np.array([1, 2, 3, 4, 5])\n",
    "y = 2*x**2 + 3*x + 1           \n",
    "print(y)\n",
    "print(y.shape)\n",
    "\n",
    "#The shape of y is (5) which means it is a one dimensional array with 5 elements.\n"
   ]
  },
  {
   "cell_type": "markdown",
   "id": "e378273c",
   "metadata": {},
   "source": [
    "*Question 2*\n",
    "\n",
    "Let\n",
    "A = np.array([[1, 2, 3], \n",
    "              [4, 5, 6], \n",
    "              [7, 8, 9]])\n",
    "\n",
    "b = np.array([10, 20, 30])\n",
    "\n",
    "Use broadcasting to add b to each row of A. \n",
    "\n",
    "Question: What is the resulting array."
   ]
  },
  {
   "cell_type": "code",
   "execution_count": 4,
   "id": "23ba6d46",
   "metadata": {},
   "outputs": [
    {
     "name": "stdout",
     "output_type": "stream",
     "text": [
      "[[11 22 33]\n",
      " [14 25 36]\n",
      " [17 28 39]]\n"
     ]
    }
   ],
   "source": [
    "A = np.array([[1, 2, 3], \n",
    "              [4, 5, 6], \n",
    "              [7, 8, 9]])\n",
    "\n",
    "b = np.array([10, 20, 30])\n",
    "\n",
    "result = A + b\n",
    "print(result)\n"
   ]
  },
  {
   "cell_type": "markdown",
   "id": "86b90f6c",
   "metadata": {},
   "source": [
    "*Question 3*\n",
    "\n",
    "Create a matrix \n",
    "\n",
    "A = np.array([[1, 2, 3],\n",
    "              [4, 5, 6]])\n",
    "\n",
    "a. Find A.T\n",
    "b. What are the shapes of A and A.T\n",
    "c. Verify that (A.T).T == A."
   ]
  },
  {
   "cell_type": "code",
   "execution_count": 9,
   "id": "c378cc21",
   "metadata": {},
   "outputs": [
    {
     "name": "stdout",
     "output_type": "stream",
     "text": [
      "[[1 4]\n",
      " [2 5]\n",
      " [3 6]]\n",
      "(2, 3)\n",
      "(3, 2)\n",
      "[[1 2 3]\n",
      " [4 5 6]]\n",
      "True\n"
     ]
    }
   ],
   "source": [
    "A = np.array([[1, 2, 3],\n",
    "              [4, 5, 6]])\n",
    "\n",
    "print(A.T)\n",
    "\n",
    "print(A.shape)\n",
    "print(A.T.shape)\n",
    "\n",
    "print((A.T).T)\n",
    "\n",
    "print(np.array_equal((A.T).T, A))\n",
    "\n",
    "#b) The shaped of A is 2 rows and 3 columnns. The shape of A.T is 3 rows and 2 columbs\n",
    "#c) Yes, they both are equal and it does make sense because you are basically transposing twice which will give you the original matrix.\n",
    "\n"
   ]
  },
  {
   "cell_type": "markdown",
   "id": "6d18c7c1",
   "metadata": {},
   "source": [
    "*Question 4*\n",
    "\n",
    "Create \n",
    "C = np.array([[1, 2],\n",
    "              [3, 4],\n",
    "              [5, 6]])\n",
    "\n",
    "D = np.array([[ 7,  8,  9],\n",
    "              [10, 11, 12]])\n",
    "\n",
    "a. Compute C @ D\n",
    "b. What is the shape of this result \n"
   ]
  },
  {
   "cell_type": "code",
   "execution_count": 12,
   "id": "e5786720",
   "metadata": {},
   "outputs": [
    {
     "name": "stdout",
     "output_type": "stream",
     "text": [
      "[[ 27  30  33]\n",
      " [ 61  68  75]\n",
      " [ 95 106 117]]\n",
      "(3, 3)\n"
     ]
    }
   ],
   "source": [
    "C = np.array([[1, 2],\n",
    "              [3, 4],\n",
    "              [5, 6]])\n",
    "\n",
    "D = np.array([[ 7,  8,  9],\n",
    "              [10, 11, 12]])\n",
    "\n",
    "result = np.dot(C, D)\n",
    "print(result)\n",
    "\n",
    "print(result.shape)\n",
    "\n",
    "#The shape of the result is a 3x3 matrix. I am not sure if this is correct because I forgot some linear algebra rules, but I would assume they are right."
   ]
  }
 ],
 "metadata": {
  "kernelspec": {
   "display_name": "Python 3",
   "language": "python",
   "name": "python3"
  },
  "language_info": {
   "codemirror_mode": {
    "name": "ipython",
    "version": 3
   },
   "file_extension": ".py",
   "mimetype": "text/x-python",
   "name": "python",
   "nbconvert_exporter": "python",
   "pygments_lexer": "ipython3",
   "version": "3.12.10"
  }
 },
 "nbformat": 4,
 "nbformat_minor": 5
}
