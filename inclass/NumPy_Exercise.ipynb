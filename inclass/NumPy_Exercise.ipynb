{
 "cells": [
  {
   "cell_type": "markdown",
   "id": "378834ec",
   "metadata": {},
   "source": [
    "#  NumPy Classroom Exercise \n",
    "\n",
    " \n",
    "**Rules:** Use only **NumPy** (`import numpy as np`). Avoid Python loops unless asked.\n"
   ]
  },
  {
   "cell_type": "code",
   "execution_count": 1,
   "id": "34a23c7a",
   "metadata": {},
   "outputs": [],
   "source": [
    "# Setup\n",
    "import numpy as np\n"
   ]
  },
  {
   "cell_type": "markdown",
   "id": "19cdbba3",
   "metadata": {},
   "source": [
    "**Task 1.1** Create:\n",
    "- `A` with shape `(3, 4)` of type `float64` containing values `0..11`.\n",
    "- `B` as a `(4, 1)` column vector of type `int32` containing values `1..4`.\n",
    "- Without copying, create `A_view` selecting the **last two columns** of `A`. Prove modifying `A_view` also changes `A`.\n",
    "\n",
    "**Task 1.2** Convert `B` to `float64` **without** changing `B` in place, and explain why `A @ B` fails or succeeds."
   ]
  },
  {
   "cell_type": "code",
   "execution_count": 24,
   "id": "7bf6d9ca",
   "metadata": {},
   "outputs": [
    {
     "name": "stdout",
     "output_type": "stream",
     "text": [
      "A:\n",
      " [[ 0.  1.  2.  3.]\n",
      " [ 4.  5.  6.  7.]\n",
      " [ 8.  9. 10. 11.]]\n",
      "\n",
      "B:\n",
      " [[1]\n",
      " [2]\n",
      " [3]\n",
      " [4]]\n",
      "\n",
      "A_view:\n",
      " [[ 2.  3.]\n",
      " [ 6.  7.]\n",
      " [10. 11.]]\n",
      "\n",
      "Changed A:\n",
      " [[ 0.  1.  2.  3.]\n",
      " [ 4.  5.  6. 26.]\n",
      " [ 8.  9. 10. 11.]]\n",
      "\n",
      "B float:\n",
      " [[1.]\n",
      " [2.]\n",
      " [3.]\n",
      " [4.]]\n",
      "\n",
      "A @ B:\n",
      " [[ 20.]\n",
      " [136.]\n",
      " [100.]]\n"
     ]
    }
   ],
   "source": [
    "# === Your work: 1.1 & 1.2 ===\n",
    "# Create A, B, A_view as described; then demonstrate the view behavior and try A @ B.\n",
    "A = np.arange(12, dtype=np.float64).reshape(3, 4)\n",
    "print(\"A:\\n\", A)\n",
    "B = np.arange(1,5, dtype=np.int32).reshape(4, 1)\n",
    "print(\"\\nB:\\n\", B)\n",
    "\n",
    "A_view = A[:, 2:]\n",
    "print(\"\\nA_view:\\n\", A_view)\n",
    "A_view[1,1] = 26\n",
    "print(\"\\nChanged A:\\n\", A)\n",
    "\n",
    "\n",
    "#task 2\n",
    "B2 = B.astype(np.float64)\n",
    "print(\"\\nB float:\\n\", B2)\n",
    "\n",
    "try:\n",
    "    print(\"\\nA @ B:\\n\", A @ B)\n",
    "except Exception as e:\n",
    "    print(\"Error: \", e)\n",
    "\n",
    "#When we modified A-view, A also changed because A_view is not a copy, so changing it also changes A because it refers to the same data in memory.\n",
    "#For b float, we used b2 as another variable to store the float version of b, so it is basically a new array in memory. And this is why b is unchanged.\n",
    "#I am not sure what you mean by if A @ B works. They do work mathematically, because the matrix multiplication rule is true here\n",
    "#Since it is (3,4) X (4,1), it would ideally result in a (3,1) matrix and we did that get.\n",
    "#If it has to do something about the type? Then both float64 and int32 are numeric types, so Numppy handles them correctly?\n"
   ]
  },
  {
   "cell_type": "markdown",
   "id": "0c2c3aef",
   "metadata": {},
   "source": [
    "`X = np.arange(1, 13).reshape(3, 4)`, `w = np.array([1, -1, 1, -1])`\n",
    "\n",
    "**Task 2.1** Multiply each column of X by the matching weight in w and then add across the row.\n",
    "The result should be a 1-D array with 3 values (one for each row).\n",
    "Do this without using any loops.\n",
    "\n",
    "**Task 2.2** Standardize `X` **column‑wise** to zero mean/unit var using broadcasting. Verify means/stds.\n",
    "\"Standardize” means:\n",
    "\n",
    "Subtract the mean of each column,\n",
    "\n",
    "Then divide by that column’s standard deviation.\n",
    "\n",
    "This makes each column have mean ≈ 0 and standard deviation ≈ 1.\n",
    "\n",
    "**Task 2.3** Explain why `X + np.array([1, 2])` errors, but `X + np.array([[1],[2],[3]])` works."
   ]
  },
  {
   "cell_type": "code",
   "execution_count": 23,
   "id": "3916605e",
   "metadata": {},
   "outputs": [
    {
     "name": "stdout",
     "output_type": "stream",
     "text": [
      "[[ 1  2  3  4]\n",
      " [ 5  6  7  8]\n",
      " [ 9 10 11 12]]\n",
      "\n",
      " [ 1 -1  1 -1]\n",
      "\n",
      "data:\n",
      " [-2 -2 -2]\n",
      "\n",
      "Normal:\n",
      "[5. 6. 7. 8.]\n",
      "[3.26598632 3.26598632 3.26598632 3.26598632]\n",
      "\n",
      "Standardized:\n",
      "[0. 0. 0. 0.]\n",
      "[1. 1. 1. 1.]\n"
     ]
    }
   ],
   "source": [
    "# === Your work: 2.1–2.3 ===\n",
    "X = np.arange(1, 13).reshape(3, 4)\n",
    "w = np.array([1, -1, 1, -1])\n",
    "print(X)\n",
    "print(\"\\n\",w)\n",
    "\n",
    "\n",
    "# 2.1\n",
    "data = (X * w).sum(axis=1)\n",
    "print(\"\\ndata:\\n\", data)\n",
    "\n",
    "# 2.2\n",
    "mean = X.mean(axis=0)\n",
    "std = X.std(axis=0)\n",
    "X2 = (X - mean)/std\n",
    "#nomral\n",
    "print(\"\\nNormal:\")\n",
    "print(mean)\n",
    "print(std)\n",
    "\n",
    "#standardized\n",
    "print(\"\\nStandardized:\")\n",
    "print(X2.mean(axis=0))\n",
    "print( X2.std(axis=0))\n",
    "\n",
    "# 2.3 (brief note in a string variable)\n",
    "reasoning_23 = \"\"\"\n",
    "I did forget a bit about broadcasting, but when I reviewed it a bit, the main reason that np.array([1,2]) does not work is because\n",
    "the last dimensions must match or one of them must be 1. But here the shape of X is (3,4) and the np array is (2,0). This is why it didnt work\n",
    "On the other hand, np.array([[1],[2],[3]]) has a shape of (3,1), and since the last dimension is 1, it works\n",
    "\"\"\"\n"
   ]
  },
  {
   "cell_type": "code",
   "execution_count": null,
   "id": "7ec56d1e",
   "metadata": {
    "tags": [
     "solution"
    ]
   },
   "outputs": [],
   "source": []
  },
  {
   "cell_type": "markdown",
   "id": "7ba2a8e4",
   "metadata": {},
   "source": [
    "\n",
    "Let `rng = np.random.default_rng(0)` and `Z = rng.normal(0, 1, (5, 6))`.\n",
    "\n",
    "`Z` becomes a **5×6 matrix** filled with random numbers drawn from the standard normal distribution (mean 0, std 1).  \n",
    "\n",
    "\n",
    "**Task 3.1** Count how many rows have **≥ 3** strictly positive entries (no loops).\n",
    "\n",
    "**Task 3.2** Replace negatives with their squares; keep non‑negatives unchanged (vectorized)."
   ]
  },
  {
   "cell_type": "code",
   "execution_count": null,
   "id": "4a3b6215",
   "metadata": {},
   "outputs": [
    {
     "name": "stdout",
     "output_type": "stream",
     "text": [
      "[[ 0.12573022 -0.13210486  0.64042265  0.10490012 -0.53566937  0.36159505]\n",
      " [ 1.30400005  0.94708096 -0.70373524 -1.26542147 -0.62327446  0.04132598]\n",
      " [-2.32503077 -0.21879166 -1.24591095 -0.73226735 -0.54425898 -0.31630016]\n",
      " [ 0.41163054  1.04251337 -0.12853466  1.36646347 -0.66519467  0.35151007]\n",
      " [ 0.90347018  0.0940123  -0.74349925 -0.92172538 -0.45772583  0.22019512]]\n",
      "[4 3 0 4 3]\n",
      "4\n",
      "[[0.12573022 0.01745169 0.64042265 0.10490012 0.28694168 0.36159505]\n",
      " [1.30400005 0.94708096 0.49524328 1.6012915  0.38847106 0.04132598]\n",
      " [5.4057681  0.04786979 1.55229409 0.53621548 0.29621784 0.10004579]\n",
      " [0.41163054 1.04251337 0.01652116 1.36646347 0.44248395 0.35151007]\n",
      " [0.90347018 0.0940123  0.55279113 0.84957767 0.20951293 0.22019512]]\n"
     ]
    }
   ],
   "source": [
    "# === Your work: 3.1–3.3 ===\n",
    "rng = np.random.default_rng(0)\n",
    "Z = rng.normal(loc=0, scale=1, size=(5, 6))\n",
    "print(Z)\n",
    "\n",
    "# 3.1\n",
    "positiverow = (Z > 0).sum(axis=1)\n",
    "print(positiverow)\n",
    "\n",
    "finalrows = (positiverow >= 3).sum()\n",
    "print(finalrows)\n",
    "\n",
    "# 3.2\n",
    "#where function\n",
    "positiveZ = np.where(Z < 0, Z*Z, Z)\n",
    "print(positiveZ)\n",
    "\n"
   ]
  },
  {
   "cell_type": "code",
   "execution_count": null,
   "id": "540775ad",
   "metadata": {},
   "outputs": [],
   "source": []
  },
  {
   "cell_type": "markdown",
   "id": "b4d3f3dc",
   "metadata": {},
   "source": [
    "Create `Y = np.arange(1, 13).reshape(3, 4)`.\n",
    "\n",
    "**Task 4.1** Use **basic slicing** to extract columns 1..2 and set them to `-99`. Show `Y` changed.\n"
   ]
  },
  {
   "cell_type": "code",
   "execution_count": null,
   "id": "8778bed1",
   "metadata": {},
   "outputs": [
    {
     "name": "stdout",
     "output_type": "stream",
     "text": [
      "[[ 1  2  3  4]\n",
      " [ 5  6  7  8]\n",
      " [ 9 10 11 12]]\n",
      "\n",
      " [[  1 -99 -99   4]\n",
      " [  5 -99 -99   8]\n",
      " [  9 -99 -99  12]]\n"
     ]
    }
   ],
   "source": [
    "# === Your work: 4.1–4.2 ===\n",
    "Y = np.arange(1, 13).reshape(3, 4)\n",
    "print(Y)\n",
    "\n",
    "# 4.1\n",
    "Y[:, 1:3] = -99\n",
    "print(\"\\n\", Y)\n",
    "\n",
    "#I am not sure what you mean by the columns '1..2'. Do you mean the first and second columns (0-indexed) or the second and third columns?\n",
    "#I assumed you meant the second and third columns so I used 1:3.\n",
    "\n",
    "\n"
   ]
  },
  {
   "cell_type": "markdown",
   "id": "bf441275",
   "metadata": {},
   "source": [
    "Define `a=b=(2,000,000)` random normals.\n",
    "\n",
    "**Task 5.1** Compute cosine similarity once using **pure Python loops** and once using **NumPy**; time both (use `%timeit`/`%%timeit` in Jupyter)."
   ]
  },
  {
   "cell_type": "code",
   "execution_count": 51,
   "id": "182c9cf6",
   "metadata": {},
   "outputs": [
    {
     "name": "stdout",
     "output_type": "stream",
     "text": [
      "-0.00045202468071826125\n",
      "1.72 ms ± 215 μs per loop (mean ± std. dev. of 7 runs, 1,000 loops each)\n",
      "-0.0004520246807183116\n"
     ]
    }
   ],
   "source": [
    "# === Your work: 7.1 ===\n",
    "rng = np.random.default_rng(0)\n",
    "a = rng.normal(size=2_000_000)\n",
    "b = rng.normal(size=2_000_000)\n",
    "\n",
    "# Pure Python loops (sketch; be careful—this will be slow)\n",
    "dot = 0.0\n",
    "for i in range(len(a)):\n",
    "    dot += float(a[i]) * float(b[i])\n",
    "cos_loop = dot / (np.sqrt((a*a).sum()) * np.sqrt((b*b).sum()))\n",
    "print(cos_loop)\n",
    "\n",
    "\n",
    "# NumPy vectorized\n",
    "cos_numpy = a.dot(b) / (np.linalg.norm(a) * np.linalg.norm(b))\n",
    "%timeit a.dot(b) / (np.linalg.norm(a)*np.linalg.norm(b))\n",
    "print(cos_numpy)\n",
    "\n"
   ]
  },
  {
   "cell_type": "code",
   "execution_count": null,
   "id": "3a2e1ec8",
   "metadata": {
    "tags": [
     "solution"
    ]
   },
   "outputs": [],
   "source": [
    "\n"
   ]
  }
 ],
 "metadata": {
  "kernelspec": {
   "display_name": "Python 3",
   "language": "python",
   "name": "python3"
  },
  "language_info": {
   "codemirror_mode": {
    "name": "ipython",
    "version": 3
   },
   "file_extension": ".py",
   "mimetype": "text/x-python",
   "name": "python",
   "nbconvert_exporter": "python",
   "pygments_lexer": "ipython3",
   "version": "3.12.10"
  }
 },
 "nbformat": 4,
 "nbformat_minor": 5
}
