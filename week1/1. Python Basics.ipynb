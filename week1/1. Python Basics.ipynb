{
 "cells": [
  {
   "cell_type": "markdown",
   "id": "f2fc490c",
   "metadata": {},
   "source": [
    "# What is Python? \n",
    "Python is a high-level, general-purpose programming language created by **Guido van Rossum** and first released in **1991**. It emphasizes readability (think: clear syntax, significant indentation) and developer productivity. The language has evolved through major versions (Python 2 → **Python 3** in 2008+) with active development by the Python Software Foundation (PSF).\n",
    "\n",
    "## Why Python?\n",
    "- **Readable & expressive:** Fewer lines for the same idea; easy to learn/teach.\n",
    "- **Cross-platform:** Runs on Windows, macOS, Linux; used on servers, desktops, and embedded devices.\n",
    "- **Huge community:** Abundant tutorials, packages, forums, and conferences (PyCon, SciPy).\n",
    "\n",
    "## Common Uses\n",
    "- **Data science & ML:** `numpy`, `pandas`, `matplotlib`, `scikit-learn`, `tensorflow`, `pytorch`\n",
    "- **Web development:** `Django`, `Flask`, `FastAPI`\n",
    "- **Automation/Scripting & DevOps:** `argparse`, `subprocess`, `fabric`, `invoke`, CI/CD scripts\n",
    "- **APIs & microservices:** FastAPI/Flask for REST/gRPC\n",
    "- **Scientific computing:** `scipy`, `sympy`, `numba`\n",
    "- **Visualization:** `matplotlib`, `plotly`, `seaborn`, `bokeh`, `altair`\n",
    "- **Testing:** `unittest`, `pytest`, `hypothesis`\n",
    "- **Education:** Friendly syntax makes it great for first programming courses\n",
    "\n",
    "---\n",
    "\n",
    "# Installing Python\n",
    "\n",
    "> **Goal:** Install a recent **Python 3.x** (64-bit) and set up isolated environments for projects.\n",
    "\n",
    "### Option A — Official Installers (Windows/macOS)\n",
    "1. Download from `python.org` (latest stable 3.x).\n",
    "2. **Windows:** During setup, check **“Add Python to PATH”**.  \n",
    "3. Verify:\n",
    "   ```bash\n",
    "   python --version\n",
    "   # or sometimes:\n",
    "   py --version\n",
    "   ```"
   ]
  },
  {
   "cell_type": "markdown",
   "id": "046de638",
   "metadata": {},
   "source": [
    "# 2. Python Fundamentals \n",
    "\n",
    "In this section, we cover the **basics of Python programming**:  \n",
    "- Variables and Data Types  \n",
    "- Type Conversion  \n",
    "- Input and Output  \n",
    "\n",
    "These are the building blocks you need before working with more advanced concepts.\n",
    "\n",
    "---\n",
    "\n",
    "## Variables and Data Types\n",
    "\n",
    "A **variable** is simply a name that stores a value. Think of it as a container or a label.\n",
    "\n",
    "### Python Data Types:\n",
    "1. **int** → Integer numbers (whole numbers, positive or negative).  \n",
    "   Example: `x = 10`\n",
    "2. **float** → Floating-point numbers (decimal values).  \n",
    "   Example: `pi = 3.14`\n",
    "3. **str** → Strings (text data enclosed in quotes).  \n",
    "   Example: `name = \"Nikita\"`\n",
    "4. **bool** → Boolean (True or False).  \n",
    "   Example: `is_active = True`\n",
    "\n",
    "```python\n",
    "# Examples\n",
    "\n"
   ]
  },
  {
   "cell_type": "code",
   "execution_count": null,
   "id": "556f3931",
   "metadata": {},
   "outputs": [
    {
     "name": "stdout",
     "output_type": "stream",
     "text": [
      "10 <class 'int'>\n",
      "3.14159 <class 'float'>\n",
      "Python <class 'str'>\n",
      "True <class 'bool'>\n"
     ]
    }
   ],
   "source": [
    "x = 10           # int\n",
    "pi = 3.14159     # float\n",
    "name = \"Python\"  # str\n",
    "is_fun = True    # bool\n",
    "\n",
    "print(x, type(x))\n",
    "print(pi, type(pi))\n",
    "print(name, type(name))\n",
    "print(is_fun, type(is_fun))"
   ]
  },
  {
   "cell_type": "markdown",
   "id": "ea59270a",
   "metadata": {},
   "source": [
    "## Type Conversion\n",
    "\n",
    "Sometimes, we need to convert one data type to another.\n",
    "This is called type casting in Python.\n",
    "\n",
    "int() → convert to integer\n",
    "\n",
    "float() → convert to float\n",
    "\n",
    "str() → convert to string\n",
    "\n",
    "bool() → convert to boolean"
   ]
  },
  {
   "cell_type": "code",
   "execution_count": 6,
   "id": "dff1018d",
   "metadata": {},
   "outputs": [
    {
     "name": "stdout",
     "output_type": "stream",
     "text": [
      "10.5\n",
      "<class 'str'>\n",
      "10.5\n",
      "<class 'float'>\n",
      "10\n",
      "<class 'int'>\n"
     ]
    }
   ],
   "source": [
    "a = '10.5'\n",
    "print(a)\n",
    "print(type(a))\n",
    "\n",
    "b = float(a)\n",
    "print(b)\n",
    "print(type(b))\n",
    "\n",
    "c = int(b)\n",
    "print(c)\n",
    "print(type(c))"
   ]
  },
  {
   "cell_type": "code",
   "execution_count": 1,
   "id": "4320a865",
   "metadata": {},
   "outputs": [
    {
     "name": "stdout",
     "output_type": "stream",
     "text": [
      "100 <class 'int'>\n",
      "100.0 <class 'float'>\n"
     ]
    }
   ],
   "source": [
    "# Converting between types\n",
    "x = \"100\"        # string\n",
    "y = int(x)       # string → int\n",
    "z = float(x)     # string → float\n",
    "\n",
    "print(y, type(y))\n",
    "print(z, type(z))\n",
    "\n"
   ]
  },
  {
   "cell_type": "code",
   "execution_count": 2,
   "id": "0c679c47",
   "metadata": {},
   "outputs": [
    {
     "name": "stdout",
     "output_type": "stream",
     "text": [
      "The number is 25\n"
     ]
    }
   ],
   "source": [
    "# Converting number to string\n",
    "num = 25\n",
    "text = str(num)\n",
    "print(\"The number is \" + text)\n",
    "\n"
   ]
  },
  {
   "cell_type": "code",
   "execution_count": 3,
   "id": "1098fddc",
   "metadata": {},
   "outputs": [
    {
     "name": "stdout",
     "output_type": "stream",
     "text": [
      "False\n",
      "True\n",
      "False\n",
      "True\n"
     ]
    }
   ],
   "source": [
    "# Boolean conversion\n",
    "print(bool(0))    # False\n",
    "print(bool(1))    # True\n",
    "print(bool(\"\"))   # False (empty string)\n",
    "print(bool(\"hi\")) # True (non-empty string)\n"
   ]
  },
  {
   "cell_type": "markdown",
   "id": "b275d4f6",
   "metadata": {},
   "source": [
    "## Input and Output\n",
    "\n",
    "Output → `print()`\n",
    "\n",
    "The print() function is used to display results to the user."
   ]
  },
  {
   "cell_type": "code",
   "execution_count": 3,
   "id": "6e569b2a",
   "metadata": {},
   "outputs": [
    {
     "name": "stdout",
     "output_type": "stream",
     "text": [
      "Hello, Alice You are 25 years old.\n"
     ]
    }
   ],
   "source": [
    "name = \"Alice\"\n",
    "age = 25\n",
    "print(\"Hello,\", name, \"You are\", age, \"years old.\")\n"
   ]
  },
  {
   "cell_type": "markdown",
   "id": "8caf2dce",
   "metadata": {},
   "source": [
    "You can also use `f-strings` (formatted strings) for cleaner code:"
   ]
  },
  {
   "cell_type": "code",
   "execution_count": 4,
   "id": "d4bb8ad5",
   "metadata": {},
   "outputs": [
    {
     "name": "stdout",
     "output_type": "stream",
     "text": [
      "Hello, Alice! You are 25 years old.\n"
     ]
    }
   ],
   "source": [
    "print(f\"Hello, {name}! You are {age} years old.\")\n"
   ]
  },
  {
   "cell_type": "markdown",
   "id": "46fc4ef7",
   "metadata": {},
   "source": [
    "Input → `input()`\n",
    "\n",
    "The `input()` function allows the user to type values during program execution.\n",
    "\n",
    "⚠️ Important: `input()` always returns a string, so type conversion may be needed."
   ]
  },
  {
   "cell_type": "code",
   "execution_count": 4,
   "id": "fbf94038",
   "metadata": {},
   "outputs": [
    {
     "name": "stdout",
     "output_type": "stream",
     "text": [
      "Enter your name: a\n",
      "Welcome, a\n"
     ]
    }
   ],
   "source": [
    "user_name = input(\"Enter your name: \")\n",
    "print(\"Welcome,\", user_name)\n"
   ]
  },
  {
   "cell_type": "code",
   "execution_count": 5,
   "id": "453d6dac",
   "metadata": {},
   "outputs": [
    {
     "name": "stdout",
     "output_type": "stream",
     "text": [
      "Enter your age: 1\n",
      "Next year, you will be 2 years old.\n"
     ]
    }
   ],
   "source": [
    "# Numeric input with conversion\n",
    "age = int(input(\"Enter your age: \"))\n",
    "print(f\"Next year, you will be {age + 1} years old.\")\n"
   ]
  },
  {
   "cell_type": "markdown",
   "id": "ca0e06f2",
   "metadata": {},
   "source": [
    "# Basic Operators in Python\n",
    "\n",
    "Python provides a wide variety of operators to perform computations and comparisons. The most commonly used ones fall into three categories:\n",
    "\n",
    "1. **Arithmetic Operators**  \n",
    "2. **Relational (Comparison) Operators**  \n",
    "3. **Logical Operators**\n",
    "\n",
    "We will go through each with detailed explanations and examples.\n",
    "\n",
    "---\n",
    "\n",
    "## 1. Arithmetic Operators\n",
    "\n",
    "These are used to perform mathematical operations.\n",
    "\n",
    "| Operator | Description         | Example (`a = 10, b = 3`) | Result |\n",
    "|----------|---------------------|---------------------------|--------|\n",
    "| `+`      | Addition            | `a + b`                   | 13     |\n",
    "| `-`      | Subtraction         | `a - b`                   | 7      |\n",
    "| `*`      | Multiplication      | `a * b`                   | 30     |\n",
    "| `/`      | Division (float)    | `a / b`                   | 3.333… |\n",
    "| `//`     | Floor Division      | `a // b`                  | 3      |\n",
    "| `%`      | Modulus (remainder) | `a % b`                   | 1      |\n",
    "| `**`     | Exponentiation      | `a ** b`                  | 1000   |\n",
    "\n",
    "```python\n",
    "# Arithmetic examples\n",
    "\n"
   ]
  },
  {
   "cell_type": "code",
   "execution_count": 6,
   "id": "33d5ff68",
   "metadata": {},
   "outputs": [
    {
     "name": "stdout",
     "output_type": "stream",
     "text": [
      "a + b = 13\n",
      "a - b = 7\n",
      "a * b = 30\n",
      "a / b = 3.3333333333333335\n",
      "a // b = 3\n",
      "a % b = 1\n",
      "a ** b = 1000\n"
     ]
    }
   ],
   "source": [
    "a = 10\n",
    "b = 3\n",
    "\n",
    "print(\"a + b =\", a + b)\n",
    "print(\"a - b =\", a - b)\n",
    "print(\"a * b =\", a * b)\n",
    "print(\"a / b =\", a / b)\n",
    "print(\"a // b =\", a // b) #rounds down\n",
    "print(\"a % b =\", a % b)\n",
    "print(\"a ** b =\", a ** b)  # a raised to the power of b"
   ]
  },
  {
   "cell_type": "markdown",
   "id": "1a5d1b8a",
   "metadata": {},
   "source": [
    "## 2. Relational (Comparison) Operators\n",
    "\n",
    "Relational operators compare values and return a boolean result (`True` or `False`).\n",
    "\n",
    "| Operator | Description              | Example (x = 5, y = 8) | Result |\n",
    "|----------|--------------------------|-------------------------|--------|\n",
    "| `==`     | Equal to                 | `x == y`               | False  |\n",
    "| `!=`     | Not equal to             | `x != y`               | True   |\n",
    "| `>`      | Greater than             | `x > y`                | False  |\n",
    "| `<`      | Less than                | `x < y`                | True   |\n",
    "| `>=`     | Greater than or equal to | `x >= y`               | False  |\n",
    "| `<=`     | Less than or equal to    | `x <= y`               | True   |\n"
   ]
  },
  {
   "cell_type": "code",
   "execution_count": 7,
   "id": "db65ecda",
   "metadata": {},
   "outputs": [
    {
     "name": "stdout",
     "output_type": "stream",
     "text": [
      "x == y: False\n",
      "x != y: True\n",
      "x > y: False\n",
      "x < y: True\n",
      "x >= y: False\n",
      "x <= y: True\n"
     ]
    }
   ],
   "source": [
    "# Relational examples\n",
    "x = 5\n",
    "y = 8\n",
    "\n",
    "print(\"x == y:\", x == y)\n",
    "print(\"x != y:\", x != y)\n",
    "print(\"x > y:\", x > y)\n",
    "print(\"x < y:\", x < y)\n",
    "print(\"x >= y:\", x >= y)\n",
    "print(\"x <= y:\", x <= y)\n"
   ]
  },
  {
   "cell_type": "code",
   "execution_count": 8,
   "id": "7378b7b7",
   "metadata": {},
   "outputs": [
    {
     "data": {
      "text/plain": [
       "True"
      ]
     },
     "execution_count": 8,
     "metadata": {},
     "output_type": "execute_result"
    }
   ],
   "source": [
    "'CaA' < 'Cbz'"
   ]
  },
  {
   "cell_type": "markdown",
   "id": "3e6c32da",
   "metadata": {},
   "source": [
    "## 3. Logical Operators\n",
    "\n",
    "Logical operators are used to combine boolean expressions.\n",
    "\n",
    "| Operator | Description                  | Example                  | Result |\n",
    "|----------|------------------------------|--------------------------|--------|\n",
    "| `and`    | True if both conditions True | `(x > 2) and (y < 10)`  | True   |\n",
    "| `or`     | True if at least one is True | `(x > 10) or (y < 10)`  | True   |\n",
    "| `not`    | Reverses boolean value       | `not(x > y)`            | True   |\n"
   ]
  },
  {
   "cell_type": "code",
   "execution_count": 8,
   "id": "711ebcdf",
   "metadata": {},
   "outputs": [
    {
     "name": "stdout",
     "output_type": "stream",
     "text": [
      "(x > 2) and (y < 10): True\n",
      "(x > 10) or (y < 10): True\n",
      "not(x > y): True\n"
     ]
    }
   ],
   "source": [
    "# Logical examples\n",
    "x = 5\n",
    "y = 8\n",
    "\n",
    "print(\"(x > 2) and (y < 10):\", (x > 2) and (y < 10))  # True and True → True\n",
    "print(\"(x > 10) or (y < 10):\", (x > 10) or (y < 10))  # False or True → True\n",
    "print(\"not(x > y):\", not(x > y))                      # not(False) → True\n"
   ]
  },
  {
   "cell_type": "markdown",
   "id": "516b8605",
   "metadata": {},
   "source": [
    "### Summary\n",
    "\n",
    "Arithmetic operators: Perform math calculations.\n",
    "\n",
    "Relational operators: Compare values and return True/False.\n",
    "\n",
    "Logical operators: Combine multiple conditions.\n",
    "\n",
    "By combining these, you can create powerful expressions to control program logic."
   ]
  },
  {
   "cell_type": "markdown",
   "id": "e547bd7c",
   "metadata": {},
   "source": [
    "# Strings in Python\n",
    "\n",
    "A **string** in Python is a sequence of characters enclosed in **single quotes (`'`)**, **double quotes (`\"`)**, or even **triple quotes (`'''` or `\"\"\"`)** for multi-line text.\n",
    "\n",
    "Example:\n",
    "```python\n",
    "\n"
   ]
  },
  {
   "cell_type": "code",
   "execution_count": 9,
   "id": "2ae6fd64",
   "metadata": {},
   "outputs": [],
   "source": [
    "s1 = 'Hello'\n",
    "s2 = \"World\"\n",
    "s3 = \"\"\"This is \n",
    "a multi-line string.\"\"\""
   ]
  },
  {
   "cell_type": "markdown",
   "id": "0a2dba2a",
   "metadata": {},
   "source": [
    "## 1. Indexing in Strings\n",
    "\n",
    "Each character in a string has a position (index).\n",
    "\n",
    "Indexing starts from `0` for the first character.\n",
    "\n",
    "Negative indices can be used to access characters from the end (`-1` is the last character)."
   ]
  },
  {
   "cell_type": "code",
   "execution_count": 10,
   "id": "731f87fd",
   "metadata": {},
   "outputs": [
    {
     "name": "stdout",
     "output_type": "stream",
     "text": [
      "First character: P\n",
      "Third character: t\n",
      "Last character: n\n",
      "Second last character: o\n"
     ]
    }
   ],
   "source": [
    "text = \"Python\"\n",
    "\n",
    "print(\"First character:\", text[0])     # 'P'\n",
    "print(\"Third character:\", text[2])     # 't'\n",
    "print(\"Last character:\", text[-1])     # 'n'\n",
    "print(\"Second last character:\", text[-2])  # 'o'\n"
   ]
  },
  {
   "cell_type": "markdown",
   "id": "bc6b55d1",
   "metadata": {},
   "source": [
    "## 2. Slicing Strings\n",
    "\n",
    "Slicing allows us to extract a part of a string using the syntax:\n",
    "`string[start:end:step]`\n",
    "\n",
    "`start` → index where the slice begins (default is 0)\n",
    "\n",
    "`end` → index where the slice stops (not included)\n",
    "\n",
    "`step` → interval between indices (default is 1)"
   ]
  },
  {
   "cell_type": "code",
   "execution_count": 11,
   "id": "024de9aa",
   "metadata": {},
   "outputs": [
    {
     "name": "stdout",
     "output_type": "stream",
     "text": [
      "Python\n",
      "Python\n",
      "Programming\n",
      "Programmin\n",
      "Pto rgamn\n",
      "gnimmargorP nohtyP\n"
     ]
    }
   ],
   "source": [
    "text = \"Python Programming\"\n",
    "\n",
    "print(text[0:6])    # 'Python' → characters from index 0 to 5\n",
    "print(text[:6])     # same as above\n",
    "print(text[7:])     # 'Programming' → from index 7 to end\n",
    "print(text[-11:-1]) # 'Programmin' → slice using negative indices\n",
    "print(text[::2])    # 'Pto rgamn' → every 2nd character\n",
    "print(text[::-1])   # 'gnimmargorP nohtyP' → reverse string\n"
   ]
  },
  {
   "cell_type": "markdown",
   "id": "bee6e390",
   "metadata": {},
   "source": [
    "## 3. String Methods\n",
    "\n",
    "Python provides many built-in methods for strings. Here are some of the most common:\n",
    "\n",
    "(a) `upper()` → Convert all characters to uppercase"
   ]
  },
  {
   "cell_type": "code",
   "execution_count": 12,
   "id": "c7f99707",
   "metadata": {},
   "outputs": [
    {
     "name": "stdout",
     "output_type": "stream",
     "text": [
      "HELLO PYTHON\n"
     ]
    }
   ],
   "source": [
    "msg = \"hello python\"\n",
    "print(msg.upper())  # 'HELLO PYTHON'\n"
   ]
  },
  {
   "cell_type": "markdown",
   "id": "0f221c5d",
   "metadata": {},
   "source": [
    "(b) `lower()` → Convert all characters to lowercase"
   ]
  },
  {
   "cell_type": "code",
   "execution_count": 13,
   "id": "babd6bde",
   "metadata": {},
   "outputs": [
    {
     "name": "stdout",
     "output_type": "stream",
     "text": [
      "hello python\n"
     ]
    }
   ],
   "source": [
    "msg = \"HELLO PYTHON\"\n",
    "print(msg.lower())  # 'hello python'\n"
   ]
  },
  {
   "cell_type": "markdown",
   "id": "1b39e2ed",
   "metadata": {},
   "source": [
    "(c) `split()` → Split string into a list (default: by spaces)"
   ]
  },
  {
   "cell_type": "code",
   "execution_count": 14,
   "id": "20e98025",
   "metadata": {},
   "outputs": [
    {
     "name": "stdout",
     "output_type": "stream",
     "text": [
      "['Python', 'is', 'fun']\n",
      "['apple', 'banana', 'orange']\n"
     ]
    }
   ],
   "source": [
    "sentence = \"Python is fun\"\n",
    "words = sentence.split()\n",
    "print(words)  # ['Python', 'is', 'fun']\n",
    "\n",
    "# Split by comma\n",
    "csv = \"apple,banana,orange\"\n",
    "fruits = csv.split(\",\")\n",
    "print(fruits)  # ['apple', 'banana', 'orange']\n"
   ]
  },
  {
   "cell_type": "markdown",
   "id": "74af3a97",
   "metadata": {},
   "source": [
    "(d) `join()` → Join elements of a list into a string"
   ]
  },
  {
   "cell_type": "code",
   "execution_count": 15,
   "id": "a7945f3e",
   "metadata": {},
   "outputs": [
    {
     "name": "stdout",
     "output_type": "stream",
     "text": [
      "Python is fun\n",
      "apple,banana,orange\n"
     ]
    }
   ],
   "source": [
    "words = ['Python', 'is', 'fun']\n",
    "sentence = \" \".join(words)\n",
    "print(sentence)  # 'Python is fun'\n",
    "\n",
    "fruits = ['apple', 'banana', 'orange']\n",
    "csv = \",\".join(fruits)\n",
    "print(csv)  # 'apple,banana,orange'\n"
   ]
  },
  {
   "cell_type": "markdown",
   "id": "b3f82ca5",
   "metadata": {},
   "source": [
    "# Python Collections Overview\n",
    "\n",
    "Python provides several **built-in collection data types** that allow you to store and manipulate groups of data.  \n",
    "The four main collection types are:\n",
    "\n",
    "1. **Lists** → Ordered, mutable sequences  \n",
    "2. **Tuples** → Ordered, immutable sequences  \n",
    "3. **Sets** → Unordered collections of unique elements  \n",
    "4. **Dictionaries** → Unordered collections of key–value pairs  \n",
    "\n",
    "We will study each of them with detailed explanations and examples.\n",
    "\n",
    "---\n",
    "\n",
    "## 1. Lists\n",
    "\n",
    "A **list** is an ordered, mutable (changeable) collection of items.  \n",
    "Lists can contain elements of different data types (though typically you keep them homogeneous).\n",
    "\n",
    "### Creating Lists\n",
    "```python\n"
   ]
  },
  {
   "cell_type": "code",
   "execution_count": 16,
   "id": "b8b9ba4f",
   "metadata": {},
   "outputs": [
    {
     "name": "stdout",
     "output_type": "stream",
     "text": [
      "[10, 20, 30, 40, 50]\n",
      "[1, 'Python', 3.14, True]\n"
     ]
    }
   ],
   "source": [
    "# Empty list\n",
    "my_list = []\n",
    "\n",
    "# List with elements\n",
    "numbers = [10, 20, 30, 40, 50]\n",
    "mixed = [1, \"Python\", 3.14, True]\n",
    "\n",
    "print(numbers)\n",
    "print(mixed)\n"
   ]
  },
  {
   "cell_type": "code",
   "execution_count": 17,
   "id": "1178d96f",
   "metadata": {},
   "outputs": [
    {
     "name": "stdout",
     "output_type": "stream",
     "text": [
      "10\n",
      "50\n",
      "[20, 30, 40]\n"
     ]
    }
   ],
   "source": [
    "#Indexing and Slicing\n",
    "numbers = [10, 20, 30, 40, 50]\n",
    "\n",
    "print(numbers[0])   # First element (10)\n",
    "print(numbers[-1])  # Last element (50)\n",
    "print(numbers[1:4]) # Slice (20, 30, 40)\n"
   ]
  },
  {
   "cell_type": "code",
   "execution_count": 6,
   "id": "d68a4dc3",
   "metadata": {},
   "outputs": [],
   "source": [
    "#List Methods\n",
    "fruits = [\"apple\", \"banana\", \"cherry\"]\n"
   ]
  },
  {
   "cell_type": "code",
   "execution_count": 7,
   "id": "8bc8d4a8",
   "metadata": {},
   "outputs": [
    {
     "name": "stdout",
     "output_type": "stream",
     "text": [
      "['apple', 'mango', 'banana', 'cherry', 'orange']\n"
     ]
    }
   ],
   "source": [
    "# Adding elements\n",
    "fruits.append(\"orange\")       # Add at end\n",
    "fruits.insert(1, \"mango\")     # Insert at index 1\n",
    "print(fruits)\n"
   ]
  },
  {
   "cell_type": "code",
   "execution_count": 8,
   "id": "e4116c4a",
   "metadata": {},
   "outputs": [
    {
     "name": "stdout",
     "output_type": "stream",
     "text": [
      "['apple', 'mango', 'cherry'] | Popped: orange\n"
     ]
    }
   ],
   "source": [
    "# Removing elements\n",
    "fruits.remove(\"banana\")       # Remove by value\n",
    "last = fruits.pop()           # Remove last element\n",
    "print(fruits, \"| Popped:\", last)\n"
   ]
  },
  {
   "cell_type": "code",
   "execution_count": 9,
   "id": "527f0d22",
   "metadata": {},
   "outputs": [
    {
     "name": "stdout",
     "output_type": "stream",
     "text": [
      "[1, 2, 5, 9]\n",
      "[9, 5, 2, 1]\n"
     ]
    }
   ],
   "source": [
    "# Other useful methods\n",
    "nums = [5, 2, 9, 1]\n",
    "nums.sort()      # Sort ascending\n",
    "print(nums)\n",
    "nums.reverse()   # Reverse order\n",
    "print(nums)"
   ]
  },
  {
   "cell_type": "markdown",
   "id": "266d6b4e",
   "metadata": {},
   "source": [
    "## 2. Tuples\n",
    "\n",
    "A tuple is like a list, but immutable (cannot be changed after creation).\n",
    "They are often used to represent fixed collections of items."
   ]
  },
  {
   "cell_type": "code",
   "execution_count": 19,
   "id": "c9b3c11e",
   "metadata": {},
   "outputs": [
    {
     "name": "stdout",
     "output_type": "stream",
     "text": [
      "(1, 2, 3)\n",
      "('a', 'b', 'c', 1, 2, 3)\n",
      "(42,)\n"
     ]
    }
   ],
   "source": [
    "#Creating Tuples\n",
    "t1 = (1, 2, 3)\n",
    "t2 = (\"a\", \"b\", \"c\", 1, 2, 3)\n",
    "t3 = (42,)   # Single-element tuple (note the comma!)\n",
    "\n",
    "print(t1)\n",
    "print(t2)\n",
    "print(t3)\n"
   ]
  },
  {
   "cell_type": "code",
   "execution_count": 20,
   "id": "d2f6228e",
   "metadata": {},
   "outputs": [
    {
     "name": "stdout",
     "output_type": "stream",
     "text": [
      "10\n",
      "40\n",
      "(20, 30)\n"
     ]
    }
   ],
   "source": [
    "#Accessing Elements\n",
    "t = (10, 20, 30, 40)\n",
    "\n",
    "print(t[0])    # First element\n",
    "print(t[-1])   # Last element\n",
    "print(t[1:3])  # Slice (20, 30)\n"
   ]
  },
  {
   "cell_type": "code",
   "execution_count": 21,
   "id": "eac72117",
   "metadata": {},
   "outputs": [],
   "source": [
    "#Immutability\n",
    "t = (1, 2, 3)\n",
    "# t[0] = 10   # ❌ Error: tuples are immutable\n"
   ]
  },
  {
   "cell_type": "code",
   "execution_count": 22,
   "id": "ddd0290d",
   "metadata": {},
   "outputs": [],
   "source": [
    "#✔️ You can still iterate or use functions like len(), min(), max(), etc."
   ]
  },
  {
   "cell_type": "markdown",
   "id": "8d5e82db",
   "metadata": {},
   "source": [
    "## 3. Sets\n",
    "\n",
    "A set is an unordered collection of unique elements.\n",
    "Useful when you want to eliminate duplicates or perform mathematical set operations."
   ]
  },
  {
   "cell_type": "code",
   "execution_count": 2,
   "id": "805ffd1a",
   "metadata": {},
   "outputs": [
    {
     "name": "stdout",
     "output_type": "stream",
     "text": [
      "{1, 2, 3, 4}\n",
      "{2, 3, 4, 5}\n"
     ]
    }
   ],
   "source": [
    "#Creating Sets\n",
    "s1 = {1, 2, 3, 4}\n",
    "s2 = set([2, 3, 4, 5])   # Create from list\n",
    "\n",
    "print(s1)\n",
    "print(s2)\n"
   ]
  },
  {
   "cell_type": "code",
   "execution_count": 24,
   "id": "81b46d5d",
   "metadata": {},
   "outputs": [
    {
     "name": "stdout",
     "output_type": "stream",
     "text": [
      "{1, 2, 3, 4}\n"
     ]
    }
   ],
   "source": [
    "#Duplicates are removed automatically\n",
    "s = {1, 2, 2, 3, 4, 4}\n",
    "print(s)  # {1, 2, 3, 4}\n"
   ]
  },
  {
   "cell_type": "code",
   "execution_count": 25,
   "id": "3d1b06dd",
   "metadata": {},
   "outputs": [
    {
     "name": "stdout",
     "output_type": "stream",
     "text": [
      "Union: {1, 2, 3, 4, 5, 6}\n",
      "Intersection: {3, 4}\n",
      "Difference: {1, 2}\n",
      "Symmetric diff: {1, 2, 5, 6}\n"
     ]
    }
   ],
   "source": [
    "#Set Operations\n",
    "A = {1, 2, 3, 4}\n",
    "B = {3, 4, 5, 6}\n",
    "\n",
    "print(\"Union:\", A | B)         # {1,2,3,4,5,6}\n",
    "print(\"Intersection:\", A & B)  # {3,4}\n",
    "print(\"Difference:\", A - B)    # {1,2}\n",
    "print(\"Symmetric diff:\", A ^ B)# {1,2,5,6}\n"
   ]
  },
  {
   "cell_type": "code",
   "execution_count": 26,
   "id": "f6cd12db",
   "metadata": {},
   "outputs": [
    {
     "name": "stdout",
     "output_type": "stream",
     "text": [
      "{1, 3, 4}\n",
      "True\n"
     ]
    }
   ],
   "source": [
    "#Methods\n",
    "s = {1, 2, 3}\n",
    "s.add(4)         # Add element\n",
    "s.remove(2)      # Remove element\n",
    "print(s)\n",
    "\n",
    "print(3 in s)    # Membership test (True)\n"
   ]
  },
  {
   "cell_type": "markdown",
   "id": "1d21deb4",
   "metadata": {},
   "source": [
    "## 4. Dictionaries\n",
    "\n",
    "A dictionary is a collection of key–value pairs.\n",
    "Keys must be unique and immutable (e.g., strings, numbers, tuples), while values can be any type.\n",
    "\n",
    "Creating Dictionaries"
   ]
  },
  {
   "cell_type": "code",
   "execution_count": 27,
   "id": "8765082a",
   "metadata": {},
   "outputs": [
    {
     "name": "stdout",
     "output_type": "stream",
     "text": [
      "{'name': 'Alice', 'age': 22, 'major': 'Data Science'}\n"
     ]
    }
   ],
   "source": [
    "student = {\n",
    "    \"name\": \"Alice\",\n",
    "    \"age\": 22,\n",
    "    \"major\": \"Data Science\"\n",
    "}\n",
    "\n",
    "print(student)\n"
   ]
  },
  {
   "cell_type": "code",
   "execution_count": 28,
   "id": "3a182832",
   "metadata": {},
   "outputs": [
    {
     "name": "stdout",
     "output_type": "stream",
     "text": [
      "Alice\n",
      "{'name': 'Alice', 'age': 23, 'major': 'Data Science', 'grade': 'A'}\n"
     ]
    }
   ],
   "source": [
    "#Accessing and Modifying\n",
    "print(student[\"name\"])       # Access by key\n",
    "student[\"age\"] = 23          # Modify value\n",
    "student[\"grade\"] = \"A\"       # Add new key-value pair\n",
    "print(student)\n"
   ]
  },
  {
   "cell_type": "code",
   "execution_count": 29,
   "id": "13b68d80",
   "metadata": {},
   "outputs": [
    {
     "name": "stdout",
     "output_type": "stream",
     "text": [
      "dict_keys(['name', 'age', 'major', 'grade'])\n",
      "dict_values(['Alice', 23, 'Data Science', 'A'])\n",
      "dict_items([('name', 'Alice'), ('age', 23), ('major', 'Data Science'), ('grade', 'A')])\n",
      "name : Alice\n",
      "age : 23\n",
      "major : Data Science\n",
      "grade : A\n"
     ]
    }
   ],
   "source": [
    "#Methods and Iterations\n",
    "# Dictionary methods\n",
    "print(student.keys())    # dict_keys(['name','age','major','grade'])\n",
    "print(student.values())  # dict_values(['Alice',23,'Data Science','A'])\n",
    "print(student.items())   # dict_items([('name','Alice'), ('age',23), ...])\n",
    "\n",
    "# Iteration\n",
    "for key, value in student.items():\n",
    "    print(key, \":\", value)\n"
   ]
  },
  {
   "cell_type": "markdown",
   "id": "2a23e5ee",
   "metadata": {},
   "source": [
    "# Control Flow in Python\n",
    "\n",
    "Control flow lets your program **make decisions** and **repeat actions**. Core tools:\n",
    "- Conditional statements: `if`, `elif`, `else`\n",
    "- Loops: `for` and `while`\n",
    "- Loop control: `break`, `continue`, `pass`\n",
    "- Iteration patterns: `range()`, iterating over lists and dictionaries\n",
    "\n",
    "---\n",
    "\n",
    "## 1) Conditionals: `if`, `elif`, `else`\n",
    "\n",
    "Use conditionals to choose which block of code to execute based on a **boolean expression**.\n",
    "\n",
    "**Syntax:**\n",
    "```python\n",
    "if condition1:\n",
    "    # block A\n",
    "elif condition2:\n",
    "    # block B\n",
    "else:\n",
    "    # block C\n",
    "    \n",
    "```\n",
    "    \n",
    "### Notes\n",
    "\n",
    "The first `True` condition’s block runs; the rest are skipped.\n",
    "\n",
    "Use comparison operators (`==`, `!=`, `<`, `>`, `<=`, `>=`) and logical operators (`and`, `or`, `not`).\n",
    "\n",
    "Python supports chained comparisons: `0 < x < 10`\n"
   ]
  },
  {
   "cell_type": "code",
   "execution_count": 30,
   "id": "297484df",
   "metadata": {},
   "outputs": [
    {
     "name": "stdout",
     "output_type": "stream",
     "text": [
      "Score: 87, Grade: B\n"
     ]
    }
   ],
   "source": [
    "# Basic conditional example\n",
    "score = 87\n",
    "\n",
    "if score >= 90:\n",
    "    grade = \"A\"\n",
    "elif score >= 80:\n",
    "    grade = \"B\"\n",
    "elif score >= 70:\n",
    "    grade = \"C\"\n",
    "else:\n",
    "    grade = \"D/F\"\n",
    "\n",
    "print(f\"Score: {score}, Grade: {grade}\")\n"
   ]
  },
  {
   "cell_type": "markdown",
   "id": "9d44cc08",
   "metadata": {},
   "source": [
    "### Truthiness\n",
    "In conditionals, Python interprets some values as `False`:\n",
    "- `0`, `0.0`, `''` (empty string), `[]`, `{}`, `set()`, `None`\n",
    "\n",
    "Everything else is `True`.\n"
   ]
  },
  {
   "cell_type": "code",
   "execution_count": 31,
   "id": "904c54dc",
   "metadata": {},
   "outputs": [
    {
     "name": "stdout",
     "output_type": "stream",
     "text": [
      "No items available\n"
     ]
    }
   ],
   "source": [
    "# Truthiness example\n",
    "items = []\n",
    "\n",
    "if items:         # empty list is False\n",
    "    print(\"We have items\")\n",
    "else:\n",
    "    print(\"No items available\")\n"
   ]
  },
  {
   "cell_type": "markdown",
   "id": "4548d784",
   "metadata": {},
   "source": [
    "## 2) `for` Loops with `range()`\n",
    "\n",
    "`range()` generates a sequence of integers: `range(start, stop, step)`.\n",
    "\n",
    "`start` defaults to `0`\n",
    "\n",
    "`stop` is exclusive\n",
    "\n",
    "`step` defaults to `1`"
   ]
  },
  {
   "cell_type": "code",
   "execution_count": 21,
   "id": "974c4a7d",
   "metadata": {},
   "outputs": [
    {
     "name": "stdout",
     "output_type": "stream",
     "text": [
      "Sum 0..9 = 45\n"
     ]
    }
   ],
   "source": [
    "# Sum numbers 0..9\n",
    "total = 0\n",
    "for i in range(10):  # 0 to 9\n",
    "    total += i\n",
    "print(\"Sum 0..9 =\", total)\n",
    "\n"
   ]
  },
  {
   "cell_type": "code",
   "execution_count": 22,
   "id": "5ba5159e",
   "metadata": {},
   "outputs": [
    {
     "name": "stdout",
     "output_type": "stream",
     "text": [
      "10 9 8 7 6 5 4 3 2 1 "
     ]
    }
   ],
   "source": [
    "# Count down from 10 to 1\n",
    "for i in range(10, 0, -1):\n",
    "    print(i, end=\" \")\n"
   ]
  },
  {
   "cell_type": "markdown",
   "id": "9974f906",
   "metadata": {},
   "source": [
    "### Common Patterns with `range()`\n",
    "- Repeating an action N times: `for _ in range(N): ...`\n",
    "- Using index while iterating a list: `for i in range(len(lst)): ...` (but `enumerate` is preferred—see below)\n"
   ]
  },
  {
   "cell_type": "code",
   "execution_count": 33,
   "id": "7ae0514e",
   "metadata": {},
   "outputs": [
    {
     "name": "stdout",
     "output_type": "stream",
     "text": [
      "Hello! Hello! Hello! Hello! Hello! "
     ]
    }
   ],
   "source": [
    "# Repeat an action 5 times\n",
    "for _ in range(5):\n",
    "    print(\"Hello!\", end=\" \")\n"
   ]
  },
  {
   "cell_type": "markdown",
   "id": "6bbf64d6",
   "metadata": {},
   "source": [
    "## 3) Iterating Over Lists and Dictionaries\n",
    "Lists\n",
    "\n",
    "Iterate directly over elements (pythonic) or use `enumerate` for index + value."
   ]
  },
  {
   "cell_type": "code",
   "execution_count": 23,
   "id": "72ef3d45",
   "metadata": {},
   "outputs": [
    {
     "name": "stdout",
     "output_type": "stream",
     "text": [
      "apple\n",
      "banana\n",
      "cherry\n"
     ]
    }
   ],
   "source": [
    "fruits = [\"apple\", \"banana\", \"cherry\"]\n",
    "\n",
    "# Direct iteration\n",
    "for fruit in fruits:\n",
    "    print(fruit)\n",
    "\n"
   ]
  },
  {
   "cell_type": "code",
   "execution_count": 24,
   "id": "a957f026",
   "metadata": {},
   "outputs": [
    {
     "name": "stdout",
     "output_type": "stream",
     "text": [
      "1. apple\n",
      "2. banana\n",
      "3. cherry\n"
     ]
    }
   ],
   "source": [
    "# With index\n",
    "for idx, fruit in enumerate(fruits, start=1):\n",
    "    print(f\"{idx}. {fruit}\")\n"
   ]
  },
  {
   "cell_type": "markdown",
   "id": "d9bcf4d5",
   "metadata": {},
   "source": [
    "### Dictionaries\n",
    "Iterate over keys, values, or key–value pairs using `.keys()`, `.values()`, `.items()`.\n"
   ]
  },
  {
   "cell_type": "code",
   "execution_count": 25,
   "id": "c8e658af",
   "metadata": {},
   "outputs": [
    {
     "name": "stdout",
     "output_type": "stream",
     "text": [
      "Key: name | Value: Nikita\n",
      "Key: age | Value: 27\n",
      "Key: major | Value: Data Science\n"
     ]
    }
   ],
   "source": [
    "student = {\"name\": \"Nikita\", \"age\": 27, \"major\": \"Data Science\"}\n",
    "\n",
    "# Keys (default iteration is over keys)\n",
    "for key in student:\n",
    "    print(\"Key:\", key, \"| Value:\", student[key])\n"
   ]
  },
  {
   "cell_type": "code",
   "execution_count": 26,
   "id": "84f5a9fd",
   "metadata": {},
   "outputs": [
    {
     "name": "stdout",
     "output_type": "stream",
     "text": [
      "Value: Nikita\n",
      "Value: 27\n",
      "Value: Data Science\n"
     ]
    }
   ],
   "source": [
    "# Values\n",
    "for val in student.values():\n",
    "    print(\"Value:\", val)\n",
    "\n"
   ]
  },
  {
   "cell_type": "code",
   "execution_count": 27,
   "id": "e4c4bcfa",
   "metadata": {},
   "outputs": [
    {
     "name": "stdout",
     "output_type": "stream",
     "text": [
      "name -> Nikita\n",
      "age -> 27\n",
      "major -> Data Science\n"
     ]
    }
   ],
   "source": [
    "# Key–Value pairs\n",
    "for key, val in student.items():\n",
    "    print(f\"{key} -> {val}\")\n"
   ]
  },
  {
   "cell_type": "markdown",
   "id": "914a3171",
   "metadata": {},
   "source": [
    "## 4) while Loops\n",
    "\n",
    "A while loop repeats while a condition is `True`.\n",
    "Be careful to update state to avoid infinite loops."
   ]
  },
  {
   "cell_type": "code",
   "execution_count": 36,
   "id": "e76ae79c",
   "metadata": {},
   "outputs": [
    {
     "name": "stdout",
     "output_type": "stream",
     "text": [
      "1 2 3 4 5 "
     ]
    }
   ],
   "source": [
    "# Count until 5\n",
    "n = 1\n",
    "while n <= 5:\n",
    "    print(n, end=\" \")\n",
    "    n += 1\n"
   ]
  },
  {
   "cell_type": "markdown",
   "id": "47204a38",
   "metadata": {},
   "source": [
    "**When to use `while` vs `for`?**  \n",
    "- Use `for` when you know the number of iterations or are iterating over a collection.\n",
    "- Use `while` when the number of iterations depends on a condition that changes over time.\n"
   ]
  },
  {
   "cell_type": "markdown",
   "id": "6936bd63",
   "metadata": {},
   "source": [
    "## 5) Loop Control: break, continue, pass\n",
    "\n",
    "`break`: exit the nearest loop immediately\n",
    "\n",
    "`continue`: skip to the next iteration\n",
    "\n",
    "`pass`: a no-op placeholder (does nothing)"
   ]
  },
  {
   "cell_type": "code",
   "execution_count": 37,
   "id": "cc5c89db",
   "metadata": {},
   "outputs": [
    {
     "name": "stdout",
     "output_type": "stream",
     "text": [
      "First even: 10\n"
     ]
    }
   ],
   "source": [
    "# break: find the first even number\n",
    "nums = [1, 3, 7, 10, 11, 14]\n",
    "first_even = None\n",
    "\n",
    "for x in nums:\n",
    "    if x % 2 == 0:\n",
    "        first_even = x\n",
    "        break  # stop after the first even number is found\n",
    "\n",
    "print(\"First even:\", first_even)\n"
   ]
  },
  {
   "cell_type": "code",
   "execution_count": 38,
   "id": "fc814a00",
   "metadata": {},
   "outputs": [
    {
     "name": "stdout",
     "output_type": "stream",
     "text": [
      "Positives: [5, 3, 4]\n"
     ]
    }
   ],
   "source": [
    "# continue: skip negative numbers\n",
    "values = [5, -2, 3, -9, 4]\n",
    "positives = []\n",
    "\n",
    "for v in values:\n",
    "    if v < 0:\n",
    "        continue  # skip negatives\n",
    "    positives.append(v)\n",
    "\n",
    "print(\"Positives:\", positives)\n"
   ]
  },
  {
   "cell_type": "code",
   "execution_count": 39,
   "id": "8087fc99",
   "metadata": {},
   "outputs": [
    {
     "name": "stdout",
     "output_type": "stream",
     "text": [
      "Handling: todo: load data\n",
      "Handling: todo: preprocess\n",
      "Handling: todo: train\n"
     ]
    }
   ],
   "source": [
    "# pass: placeholder for future implementation\n",
    "for task in [\"todo: load data\", \"todo: preprocess\", \"todo: train\"]:\n",
    "    if \"preprocess\" in task:\n",
    "        pass  # we'll implement later\n",
    "    print(\"Handling:\", task)\n"
   ]
  },
  {
   "cell_type": "markdown",
   "id": "40abf152",
   "metadata": {},
   "source": [
    "## 6) (Bonus) `else` on Loops\n",
    "\n",
    "`for/while` loops can have an `else` clause that executes only if the loop didn’t hit a `break`."
   ]
  },
  {
   "cell_type": "code",
   "execution_count": 40,
   "id": "f32e6338",
   "metadata": {},
   "outputs": [
    {
     "name": "stdout",
     "output_type": "stream",
     "text": [
      "Not found (loop ended without break).\n"
     ]
    }
   ],
   "source": [
    "# Search with for-else\n",
    "data = [3, 5, 8, 12, 15]\n",
    "target = 7\n",
    "\n",
    "for d in data:\n",
    "    if d == target:\n",
    "        print(\"Found!\")\n",
    "        break\n",
    "else:\n",
    "    print(\"Not found (loop ended without break).\")\n"
   ]
  },
  {
   "cell_type": "markdown",
   "id": "d82358d2",
   "metadata": {},
   "source": [
    "# 4. Functions in Python \n",
    "\n",
    "Functions are **reusable blocks of code** that perform a specific task. They help reduce repetition, improve readability, and make programs modular.\n",
    "\n",
    "---\n",
    "\n",
    "## 1) Defining Functions (`def`)\n",
    "\n",
    "A function in Python is defined using the `def` keyword.\n",
    "\n",
    "**Syntax:**\n",
    "```python\n",
    "def function_name(parameters):\n",
    "    \"\"\"Optional docstring: describes the function\"\"\"\n",
    "    # function body\n",
    "    return value\n"
   ]
  },
  {
   "cell_type": "code",
   "execution_count": 41,
   "id": "24d7e9fe",
   "metadata": {},
   "outputs": [
    {
     "name": "stdout",
     "output_type": "stream",
     "text": [
      "Hello! Welcome to Python functions.\n"
     ]
    }
   ],
   "source": [
    "# Example: Simple greeting function\n",
    "def greet():\n",
    "    \"\"\"Prints a welcome message\"\"\"\n",
    "    print(\"Hello! Welcome to Python functions.\")\n",
    "\n",
    "# Call the function\n",
    "greet()\n"
   ]
  },
  {
   "cell_type": "markdown",
   "id": "2f8f70b9",
   "metadata": {},
   "source": [
    "## 2) Parameters\n",
    "\n",
    "Functions can take inputs called parameters (or arguments). There are several kinds:\n",
    "\n",
    "#### (a) Positional Parameters\n",
    "\n",
    "Arguments are matched by their position in the call."
   ]
  },
  {
   "cell_type": "code",
   "execution_count": 42,
   "id": "1b85587b",
   "metadata": {},
   "outputs": [
    {
     "name": "stdout",
     "output_type": "stream",
     "text": [
      "8\n"
     ]
    }
   ],
   "source": [
    "def add(a, b):\n",
    "    return a + b\n",
    "\n",
    "print(add(5, 3))  # 5 goes to a, 3 goes to b\n"
   ]
  },
  {
   "cell_type": "markdown",
   "id": "598dbe94",
   "metadata": {},
   "source": [
    "#### (b) Keyword Parameters\n",
    "\n",
    "Arguments can be passed by name, regardless of order."
   ]
  },
  {
   "cell_type": "code",
   "execution_count": 43,
   "id": "7d718715",
   "metadata": {},
   "outputs": [
    {
     "name": "stdout",
     "output_type": "stream",
     "text": [
      "My name is Nikita, I am 25 years old.\n"
     ]
    }
   ],
   "source": [
    "def introduce(name, age):\n",
    "    print(f\"My name is {name}, I am {age} years old.\")\n",
    "\n",
    "introduce(age=25, name=\"Nikita\")  # order doesn’t matter\n"
   ]
  },
  {
   "cell_type": "markdown",
   "id": "34962d6d",
   "metadata": {},
   "source": [
    "#### (c) Default Parameters\n",
    "\n",
    "You can assign default values to parameters."
   ]
  },
  {
   "cell_type": "code",
   "execution_count": 44,
   "id": "fe99bea1",
   "metadata": {},
   "outputs": [
    {
     "name": "stdout",
     "output_type": "stream",
     "text": [
      "25\n",
      "125\n"
     ]
    }
   ],
   "source": [
    "def power(base, exponent=2):  # exponent defaults to 2\n",
    "    return base ** exponent\n",
    "\n",
    "print(power(5))       # 5^2 = 25\n",
    "print(power(5, 3))    # 5^3 = 125\n"
   ]
  },
  {
   "cell_type": "markdown",
   "id": "b2ee5425",
   "metadata": {},
   "source": [
    "## 3) Return Values\n",
    "\n",
    "A function can `return` values using the `return` statement."
   ]
  },
  {
   "cell_type": "code",
   "execution_count": 45,
   "id": "07093146",
   "metadata": {},
   "outputs": [
    {
     "name": "stdout",
     "output_type": "stream",
     "text": [
      "Result = 42\n"
     ]
    }
   ],
   "source": [
    "def multiply(x, y):\n",
    "    result = x * y\n",
    "    return result\n",
    "\n",
    "val = multiply(6, 7)\n",
    "print(\"Result =\", val)\n"
   ]
  },
  {
   "cell_type": "markdown",
   "id": "871e34a4",
   "metadata": {},
   "source": [
    "If no `return` is specified, the function returns `None` by default."
   ]
  },
  {
   "cell_type": "code",
   "execution_count": 46,
   "id": "c1f2d966",
   "metadata": {},
   "outputs": [
    {
     "name": "stdout",
     "output_type": "stream",
     "text": [
      "Hello\n",
      "Return value: None\n"
     ]
    }
   ],
   "source": [
    "def say_hello():\n",
    "    print(\"Hello\")\n",
    "\n",
    "result = say_hello()\n",
    "print(\"Return value:\", result)  # None\n"
   ]
  },
  {
   "cell_type": "markdown",
   "id": "6bf25c17",
   "metadata": {},
   "source": [
    "## 4) Scope of Variables (Local vs Global)\n",
    "\n",
    "`Local variables` → defined inside a function, accessible only there.\n",
    "\n",
    "`Global variables` → defined outside functions, accessible everywhere (unless shadowed)."
   ]
  },
  {
   "cell_type": "code",
   "execution_count": 47,
   "id": "e25500bc",
   "metadata": {},
   "outputs": [
    {
     "name": "stdout",
     "output_type": "stream",
     "text": [
      "Inside function: 5\n",
      "Outside function: 10\n"
     ]
    }
   ],
   "source": [
    "x = 10  # global variable\n",
    "\n",
    "def demo():\n",
    "    x = 5   # local variable\n",
    "    print(\"Inside function:\", x)\n",
    "\n",
    "demo()\n",
    "print(\"Outside function:\", x)\n"
   ]
  },
  {
   "cell_type": "markdown",
   "id": "375ee9f2",
   "metadata": {},
   "source": [
    "#### Using global keyword\n",
    "\n",
    "To modify a `global` variable inside a function, use `global`."
   ]
  },
  {
   "cell_type": "code",
   "execution_count": 48,
   "id": "47ebe192",
   "metadata": {},
   "outputs": [
    {
     "name": "stdout",
     "output_type": "stream",
     "text": [
      "Inside function: 1\n",
      "Inside function: 2\n",
      "Outside function: 2\n"
     ]
    }
   ],
   "source": [
    "count = 0\n",
    "\n",
    "def increment():\n",
    "    global count\n",
    "    count += 1\n",
    "    print(\"Inside function:\", count)\n",
    "\n",
    "increment()\n",
    "increment()\n",
    "print(\"Outside function:\", count)\n"
   ]
  },
  {
   "cell_type": "markdown",
   "id": "7f5fb68c",
   "metadata": {},
   "source": [
    "## 5) Lambda Functions (Intro)\n",
    "\n",
    "A **lambda** function is a small anonymous function, defined using the `lambda` keyword.\n",
    "They are often used for **short, throwaway functions**."
   ]
  },
  {
   "cell_type": "markdown",
   "id": "3098c5b0",
   "metadata": {},
   "source": [
    "#### Syntax\n",
    "\n",
    "`lambda` arguments: expression\n"
   ]
  },
  {
   "cell_type": "code",
   "execution_count": 49,
   "id": "aab4e81a",
   "metadata": {},
   "outputs": [
    {
     "name": "stdout",
     "output_type": "stream",
     "text": [
      "Square using def: 25\n",
      "Square using lambda: 25\n"
     ]
    }
   ],
   "source": [
    "# Normal function\n",
    "def square(x):\n",
    "    return x * x\n",
    "\n",
    "# Equivalent lambda\n",
    "square_lambda = lambda x: x * x\n",
    "\n",
    "print(\"Square using def:\", square(5))\n",
    "print(\"Square using lambda:\", square_lambda(5))\n"
   ]
  },
  {
   "cell_type": "markdown",
   "id": "5a4abc27",
   "metadata": {},
   "source": [
    "**Common Use Cases**\n",
    "\n",
    "With `map()`, `filter()`, `sorted()`"
   ]
  },
  {
   "cell_type": "code",
   "execution_count": 3,
   "id": "bbb5c864",
   "metadata": {},
   "outputs": [
    {
     "name": "stdout",
     "output_type": "stream",
     "text": [
      "Squares: [1, 4, 9, 16, 25]\n"
     ]
    }
   ],
   "source": [
    "# Using lambda with map()\n",
    "nums = [1, 2, 3, 4, 5]\n",
    "squares = list(map(lambda n: n**2, nums))\n",
    "print(\"Squares:\", squares)\n",
    "\n"
   ]
  },
  {
   "cell_type": "code",
   "execution_count": 4,
   "id": "4b2a7b95",
   "metadata": {},
   "outputs": [
    {
     "name": "stdout",
     "output_type": "stream",
     "text": [
      "Sorted by length: ['Bob', 'Alice', 'Charlie']\n"
     ]
    }
   ],
   "source": [
    "# Using lambda with sorted()\n",
    "names = [\"Alice\", \"Bob\", \"Charlie\"]\n",
    "# Sort by length of name\n",
    "sorted_names = sorted(names, key=lambda name: len(name))\n",
    "print(\"Sorted by length:\", sorted_names)\n"
   ]
  },
  {
   "cell_type": "markdown",
   "id": "e5c6c2b6",
   "metadata": {},
   "source": [
    "# 5. Modules and Packages \n",
    "\n",
    "**Goal:** Learn how to organize code with modules and packages, import Python’s built-ins, and write/use your own modules.\n",
    "\n",
    "A **module** is a single `.py` file containing Python code (functions, classes, variables).  \n",
    "A **package** is a folder that contains modules (and usually an `__init__.py`), allowing you to group related modules together.\n",
    "\n",
    "---\n",
    "\n",
    "## A. Importing Built-in Modules\n",
    "\n",
    "Python ships with a rich **standard library**. You can import a module with `import <module>` and access its contents via `<module>.<name>`.\n",
    "\n",
    "### 1) `math` (mathematical functions & constants)\n"
   ]
  },
  {
   "cell_type": "code",
   "execution_count": 5,
   "id": "75c4e2be",
   "metadata": {},
   "outputs": [
    {
     "name": "stdout",
     "output_type": "stream",
     "text": [
      "PI: 3.141592653589793\n",
      "Euler's e: 2.718281828459045\n",
      "sqrt(144): 12.0\n",
      "ceil(3.01): 4\n",
      "floor(3.99): 3\n"
     ]
    }
   ],
   "source": [
    "import math\n",
    "\n",
    "print(\"PI:\", math.pi)\n",
    "print(\"Euler's e:\", math.e)\n",
    "print(\"sqrt(144):\", math.sqrt(144))\n",
    "print(\"ceil(3.01):\", math.ceil(3.01))\n",
    "print(\"floor(3.99):\", math.floor(3.99))\n",
    "\n"
   ]
  },
  {
   "cell_type": "code",
   "execution_count": 6,
   "id": "94d4b11a",
   "metadata": {},
   "outputs": [
    {
     "name": "stdout",
     "output_type": "stream",
     "text": [
      "180 degrees in radians: 3.141592653589793\n",
      "Back to degrees: 180.0\n",
      "hypot(3, 4): 5.0\n"
     ]
    }
   ],
   "source": [
    "# Angle conversions\n",
    "deg = 180\n",
    "rad = math.radians(deg)\n",
    "print(f\"{deg} degrees in radians:\", rad)\n",
    "print(\"Back to degrees:\", math.degrees(rad))\n",
    "\n",
    "# Hypotenuse (avoids overflow/underflow issues)\n",
    "print(\"hypot(3, 4):\", math.hypot(3, 4))\n"
   ]
  },
  {
   "cell_type": "markdown",
   "id": "721a063e",
   "metadata": {},
   "source": [
    "### 2) `random` (random numbers, sampling)\n",
    "\n",
    "For **reproducibility**, set a seed with `random.seed(<number>)`.\n"
   ]
  },
  {
   "cell_type": "code",
   "execution_count": 7,
   "id": "57bb78e0",
   "metadata": {},
   "outputs": [
    {
     "name": "stdout",
     "output_type": "stream",
     "text": [
      "random(): 0.6394267984578837\n",
      "randint(1, 6): 1\n",
      "uniform(1, 5): 3.9662019990393316\n"
     ]
    }
   ],
   "source": [
    "import random\n",
    "\n",
    "random.seed(42)                  # reproducible results\n",
    "print(\"random():\", random.random())          # [0.0, 1.0)\n",
    "print(\"randint(1, 6):\", random.randint(1, 6))# inclusive\n",
    "print(\"uniform(1, 5):\", random.uniform(1, 5))# float in [1,5)\n"
   ]
  },
  {
   "cell_type": "code",
   "execution_count": 8,
   "id": "b9d4ad7e",
   "metadata": {},
   "outputs": [
    {
     "name": "stdout",
     "output_type": "stream",
     "text": [
      "choice: banana\n",
      "sample 2: ['banana', 'apple']\n",
      "shuffled: ['banana', 'date', 'cherry', 'apple']\n"
     ]
    }
   ],
   "source": [
    "items = [\"apple\", \"banana\", \"cherry\", \"date\"]\n",
    "print(\"choice:\", random.choice(items))       # one random element\n",
    "print(\"sample 2:\", random.sample(items, 2))  # 2 unique elements\n",
    "\n",
    "random.shuffle(items)                        # in-place shuffle\n",
    "print(\"shuffled:\", items)\n"
   ]
  },
  {
   "cell_type": "markdown",
   "id": "8dff8058",
   "metadata": {},
   "source": [
    "### 3) `datetime` (dates, times, arithmetic)\n"
   ]
  },
  {
   "cell_type": "code",
   "execution_count": 9,
   "id": "a2a4f5bd",
   "metadata": {},
   "outputs": [
    {
     "name": "stdout",
     "output_type": "stream",
     "text": [
      "Now: 2025-09-08 13:24:51.789381\n",
      "Constructed datetime: 2025-08-18 14:30:00\n"
     ]
    }
   ],
   "source": [
    "from datetime import datetime, date, time, timedelta\n",
    "\n",
    "now = datetime.now()\n",
    "print(\"Now:\", now)\n",
    "\n",
    "# Construct specific date/time\n",
    "d = date(2025, 8, 18)\n",
    "t = time(14, 30, 0)\n",
    "dt = datetime.combine(d, t)\n",
    "print(\"Constructed datetime:\", dt)\n"
   ]
  },
  {
   "cell_type": "code",
   "execution_count": 10,
   "id": "7de98a9f",
   "metadata": {},
   "outputs": [
    {
     "name": "stdout",
     "output_type": "stream",
     "text": [
      "Deadline (+7 days, +3 hours): 2025-09-15 16:24:51.789381\n"
     ]
    }
   ],
   "source": [
    "# Arithmetic with timedelta\n",
    "deadline = now + timedelta(days=7, hours=3)\n",
    "print(\"Deadline (+7 days, +3 hours):\", deadline)\n",
    "\n"
   ]
  },
  {
   "cell_type": "code",
   "execution_count": 11,
   "id": "9e51fcd7",
   "metadata": {},
   "outputs": [
    {
     "name": "stdout",
     "output_type": "stream",
     "text": [
      "Formatted now: 2025-09-08 13:24\n",
      "Parsed datetime: 2025-12-01 09:45:00\n"
     ]
    }
   ],
   "source": [
    "# Formatting & parsing\n",
    "fmt = \"%Y-%m-%d %H:%M\"\n",
    "as_text = now.strftime(fmt)\n",
    "print(\"Formatted now:\", as_text)\n",
    "\n",
    "parsed = datetime.strptime(\"2025-12-01 09:45\", fmt)\n",
    "print(\"Parsed datetime:\", parsed)\n"
   ]
  },
  {
   "cell_type": "markdown",
   "id": "553fcb6f",
   "metadata": {},
   "source": [
    "## B. `from … import … `& Aliases\n",
    "\n",
    "You can import specific names from a module, and/or give them an alias.\n",
    "\n",
    "`from module import name1, name2`\n",
    "\n",
    "`import module as alias`\n",
    "\n",
    "`from module import name as alias`\n",
    "\n",
    "⚠️ Prefer explicit imports over `from module import *` to avoid name clashes."
   ]
  },
  {
   "cell_type": "code",
   "execution_count": 12,
   "id": "3c5a61e5",
   "metadata": {},
   "outputs": [
    {
     "name": "stdout",
     "output_type": "stream",
     "text": [
      "sqrt(50): 7.0710678118654755\n",
      "pi: 3.141592653589793\n"
     ]
    }
   ],
   "source": [
    "# Import specific names\n",
    "from math import sqrt, pi\n",
    "print(\"sqrt(50):\", sqrt(50))\n",
    "print(\"pi:\", pi)\n",
    "\n"
   ]
  },
  {
   "cell_type": "code",
   "execution_count": 13,
   "id": "aeba62cf",
   "metadata": {},
   "outputs": [
    {
     "name": "stdout",
     "output_type": "stream",
     "text": [
      "Today: 2025-09-08\n"
     ]
    }
   ],
   "source": [
    "# Aliasing a module\n",
    "import datetime as dt\n",
    "print(\"Today:\", dt.date.today())\n",
    "\n"
   ]
  },
  {
   "cell_type": "code",
   "execution_count": 14,
   "id": "df5d1eac",
   "metadata": {},
   "outputs": [
    {
     "name": "stdout",
     "output_type": "stream",
     "text": [
      "rint(10, 20): 19\n"
     ]
    }
   ],
   "source": [
    "# Aliasing a function\n",
    "from random import randint as rint\n",
    "print(\"rint(10, 20):\", rint(10, 20))\n"
   ]
  },
  {
   "cell_type": "markdown",
   "id": "89b8f7fa",
   "metadata": {},
   "source": [
    "**When to use which?**\n",
    "- `import module`: best for readability and to avoid collisions.\n",
    "- `from module import name`: handy for frequently used names.\n",
    "- `as alias`: shorten long module names (e.g., `import numpy as np`).\n"
   ]
  },
  {
   "cell_type": "markdown",
   "id": "d027f573",
   "metadata": {},
   "source": [
    "# 6. File Handling \n",
    "\n",
    "Working with files is a core programming task: you’ll save data to disk, read configuration files, log results, etc.  \n",
    "---\n",
    "\n",
    "## Learning Goals\n",
    "- Understand **opening and closing** files\n",
    "- Read and write **text files**\n",
    "\n",
    "\n",
    "---\n",
    "\n",
    "## 1) Opening and Closing Files\n",
    "\n",
    "### `open(file, mode, encoding, newline)` (common args)\n",
    "- `file`: path to the file (relative or absolute)\n",
    "- `mode`: how to open the file (text mode by default)\n",
    "  - `'r'` = read (default, **must exist**)\n",
    "  - `'w'` = write (truncate/create)\n",
    "  - `'a'` = append (create if missing)\n",
    "  - `'x'` = create (fail if exists)\n",
    "  - add `'+'` for read/write (`'r+'`, `'w+'`, `'a+'`)\n",
    "- `encoding`: text encoding (use `'utf-8'` unless you have a reason not to)\n",
    "- `newline`: control newline translation (rarely needed; default handles `\\r\\n`/`\\n` transparently on most platforms)\n",
    "\n",
    "> **Always close** the file to flush buffers and release OS handles.  \n",
    "> Prefer using `with open(...)` \n",
    "\n"
   ]
  },
  {
   "cell_type": "markdown",
   "id": "df1481de",
   "metadata": {},
   "source": [
    "# Opening and explicitly closing a file (not recommended in practice—use 'with' below)\n",
    "f = open(\"example.txt\", mode=\"w\", encoding=\"utf-8\")\n",
    "f.write(\"Hello, file!\\n\")\n",
    "f.close()  # DON'T forget this!\n"
   ]
  },
  {
   "cell_type": "markdown",
   "id": "db5b1009",
   "metadata": {},
   "source": [
    "**Common pitfalls**\n",
    "- `FileNotFoundError`: opening a non-existent file with `'r'`\n",
    "- `PermissionError`: no permission for the path\n",
    "- Forgotten `.close()`: can lead to locked files or data not being written\n",
    "\n",
    "---\n",
    "\n",
    "## 2) Reading and Writing Text Files\n",
    "\n",
    "There are several ways to **read**:\n",
    "- `f.read()` → entire file as one string\n",
    "- `f.readline()` → next line (keeps `\\n`)\n",
    "- `f.readlines()` → list of all lines\n",
    "- **Iterate** over the file object: `for line in f: ...` (memory-friendly)\n",
    "\n",
    "There are two primary ways to **write**:\n",
    "- `f.write(text)` → write a string\n",
    "- `f.writelines(iterable_of_strings)` → write multiple strings (no automatic `\\n`)\n",
    "\n"
   ]
  },
  {
   "cell_type": "code",
   "execution_count": 15,
   "id": "5ba7d8d6",
   "metadata": {},
   "outputs": [],
   "source": [
    "# Create/write (overwrites if exists)\n",
    "with open(\"poem.txt\", mode=\"w\", encoding=\"utf-8\") as f:\n",
    "    f.write(\"Roses are red\\n\")\n",
    "    f.write(\"Violets are blue\\n\")\n",
    "    f.writelines([\"Sugar is sweet\\n\", \"And so are you\\n\"])\n",
    "\n"
   ]
  },
  {
   "cell_type": "code",
   "execution_count": 16,
   "id": "6cc1aae8",
   "metadata": {},
   "outputs": [
    {
     "name": "stdout",
     "output_type": "stream",
     "text": [
      "--- File content via read() ---\n",
      "Roses are red\n",
      "Violets are blue\n",
      "Sugar is sweet\n",
      "And so are you\n",
      "\n"
     ]
    }
   ],
   "source": [
    "# Read entire content\n",
    "with open(\"poem.txt\", mode=\"r\", encoding=\"utf-8\") as f:\n",
    "    content = f.read()\n",
    "print(\"--- File content via read() ---\")\n",
    "print(content)\n",
    "\n"
   ]
  },
  {
   "cell_type": "code",
   "execution_count": 17,
   "id": "e9fa4d36",
   "metadata": {},
   "outputs": [
    {
     "name": "stdout",
     "output_type": "stream",
     "text": [
      "--- Iterating lines ---\n",
      "01: Roses are red\n",
      "02: Violets are blue\n",
      "03: Sugar is sweet\n",
      "04: And so are you\n"
     ]
    }
   ],
   "source": [
    "# Read line by line (memory-friendly for big files)\n",
    "print(\"--- Iterating lines ---\")\n",
    "with open(\"poem.txt\", mode=\"r\", encoding=\"utf-8\") as f:\n",
    "    for idx, line in enumerate(f, start=1):\n",
    "        print(f\"{idx:02d}: {line}\", end=\"\")  # 'line' already has a trailing \\n\n",
    "\n"
   ]
  },
  {
   "cell_type": "code",
   "execution_count": 18,
   "id": "f5fca00a",
   "metadata": {},
   "outputs": [
    {
     "name": "stdout",
     "output_type": "stream",
     "text": [
      "\n",
      "--- First two lines via readline() ---\n",
      "Roses are red\n",
      "Violets are blue\n",
      "\n"
     ]
    }
   ],
   "source": [
    "# Read first two lines using readline()\n",
    "with open(\"poem.txt\", mode=\"r\", encoding=\"utf-8\") as f:\n",
    "    first = f.readline()\n",
    "    second = f.readline()\n",
    "print(\"\\n--- First two lines via readline() ---\")\n",
    "print(first, second, sep=\"\")\n"
   ]
  },
  {
   "cell_type": "markdown",
   "id": "bbb50819",
   "metadata": {},
   "source": [
    "### Appending to an existing file\n",
    "Use mode `'a'` to **append** to the end of a file (creates the file if it does not exist).\n"
   ]
  },
  {
   "cell_type": "code",
   "execution_count": 19,
   "id": "f914adec",
   "metadata": {},
   "outputs": [],
   "source": [
    "with open(\"poem.txt\", mode=\"a\", encoding=\"utf-8\") as f:\n",
    "    f.write(\"P.S. Computers love text files.\\n\")\n"
   ]
  },
  {
   "cell_type": "code",
   "execution_count": 20,
   "id": "5727c6bd",
   "metadata": {},
   "outputs": [
    {
     "name": "stdout",
     "output_type": "stream",
     "text": [
      "--- After append ---\n",
      "Roses are red\n",
      "Violets are blue\n",
      "Sugar is sweet\n",
      "And so are you\n",
      "P.S. Computers love text files.\n",
      "\n"
     ]
    }
   ],
   "source": [
    "# Verify the appended line\n",
    "with open(\"poem.txt\", mode=\"r\", encoding=\"utf-8\") as f:\n",
    "    print(\"--- After append ---\")\n",
    "    print(f.read())\n"
   ]
  },
  {
   "cell_type": "markdown",
   "id": "7eecba47",
   "metadata": {},
   "source": [
    "### Read & Write in one handle\n",
    "Modes like `'r+'`, `'w+'`, `'a+'` allow reading and writing with the same handle:\n",
    "- `'r+'`: read/write; file must exist; pointer starts at beginning\n",
    "- `'w+'`: read/write; **truncates** file to empty or creates a new one\n",
    "- `'a+'`: read/write; pointer starts at end; writes always append\n"
   ]
  },
  {
   "cell_type": "code",
   "execution_count": 58,
   "id": "cb894752",
   "metadata": {},
   "outputs": [
    {
     "name": "stdout",
     "output_type": "stream",
     "text": [
      "Edited:  line\n",
      "\n"
     ]
    }
   ],
   "source": [
    "# Example: r+ (read & write without truncating)\n",
    "with open(\"note.txt\", mode=\"w\", encoding=\"utf-8\") as f:\n",
    "    f.write(\"Original line\\n\")\n",
    "\n",
    "with open(\"note.txt\", mode=\"r+\", encoding=\"utf-8\") as f:\n",
    "    start = f.read()           # read everything\n",
    "    f.seek(0, 0)               # move pointer to start\n",
    "    f.write(\"Edited: \")        # overwrite beginning\n",
    "    # 'Original line\\n' becomes 'Edited: ginal line\\n' due to overwrite\n",
    "    # (use care; often better to read -> modify in memory -> rewrite with 'w')\n",
    "\n",
    "with open(\"note.txt\", mode=\"r\", encoding=\"utf-8\") as f:\n",
    "    print(f.read())\n"
   ]
  },
  {
   "cell_type": "markdown",
   "id": "16e49e8d",
   "metadata": {},
   "source": [
    "# 7. Error Handling\n",
    "\n",
    "**Goal:** Learn how Python reports runtime problems using **exceptions**, and how to write robust code with `try`/`except` and `finally`.\n",
    "\n",
    "---\n",
    "\n",
    "## A. What is an Exception?\n",
    "\n",
    "An **exception** signals that something unexpected happened during execution (e.g., invalid input, missing file, division by zero).  \n",
    "If not handled, the program **stops** and prints a **traceback**.\n",
    "\n",
    "**Key terms**\n",
    "- **Raise** an exception: create/throw an error condition.\n",
    "- **Catch/Handle** an exception: intercept it and decide what to do (recover, log, re-raise, etc.).\n",
    "\n",
    "**Why handle exceptions?**\n",
    "- Prevent crashes\n",
    "- Provide user-friendly messages\n",
    "- Ensure cleanup (closing files, releasing resources)\n",
    "\n",
    "---\n"
   ]
  },
  {
   "cell_type": "code",
   "execution_count": 59,
   "id": "e4ac8d27",
   "metadata": {},
   "outputs": [],
   "source": [
    "# A quick unhandled exception demo (uncomment to see a crash in a real run):\n",
    "# int(\"not-a-number\")  # ValueError\n"
   ]
  },
  {
   "cell_type": "markdown",
   "id": "4cb619b9",
   "metadata": {},
   "source": [
    "---\n",
    "\n",
    "## B. `try` / `except`: Catching Exceptions\n",
    "\n",
    "**Syntax:**\n",
    "```python\n",
    "try:\n",
    "    # code that may raise an exception\n",
    "except SpecificError as err:\n",
    "    # handle that error\n",
    "except AnotherError:\n",
    "    # handle another error\n",
    "except Exception as err:\n",
    "    # (optional) generic catch, last resort\n"
   ]
  },
  {
   "cell_type": "markdown",
   "id": "43a41b59",
   "metadata": {},
   "source": [
    "#### Example 1 — Converting user input to integer (handle ValueError)"
   ]
  },
  {
   "cell_type": "code",
   "execution_count": 60,
   "id": "39d50dc1",
   "metadata": {},
   "outputs": [
    {
     "name": "stdout",
     "output_type": "stream",
     "text": [
      "42\n",
      "[ValueError] Could not convert 'forty-two' to int: invalid literal for int() with base 10: 'forty-two'\n",
      "None\n"
     ]
    }
   ],
   "source": [
    "def to_int_safe(s: str) -> int | None:\n",
    "    try:\n",
    "        return int(s)\n",
    "    except ValueError as err:\n",
    "        print(f\"[ValueError] Could not convert '{s}' to int:\", err)\n",
    "        return None\n",
    "\n",
    "print(to_int_safe(\"42\"))\n",
    "print(to_int_safe(\"forty-two\"))  # triggers ValueError\n"
   ]
  },
  {
   "cell_type": "markdown",
   "id": "bca1f651",
   "metadata": {},
   "source": [
    "### Example 2 — Multiple except blocks\n",
    "\n",
    "We can distinguish between different failure modes and respond differently.\n"
   ]
  },
  {
   "cell_type": "code",
   "execution_count": 61,
   "id": "3cf6d32e",
   "metadata": {},
   "outputs": [
    {
     "name": "stdout",
     "output_type": "stream",
     "text": [
      "5.0\n",
      "[ZeroDivisionError] Cannot divide by zero.\n",
      "inf\n",
      "[TypeError] Non-numeric input: unsupported operand type(s) for /: 'int' and 'str'\n",
      "None\n"
     ]
    }
   ],
   "source": [
    "def divide(a, b):\n",
    "    try:\n",
    "        return a / b\n",
    "    except ZeroDivisionError:\n",
    "        print(\"[ZeroDivisionError] Cannot divide by zero.\")\n",
    "        return float(\"inf\")  # sentinel/fallback (choose responsibly)\n",
    "    except TypeError as err:\n",
    "        print(\"[TypeError] Non-numeric input:\", err)\n",
    "        return None\n",
    "\n",
    "print(divide(10, 2))\n",
    "print(divide(10, 0))     # ZeroDivisionError\n",
    "print(divide(10, \"x\"))   # TypeError\n"
   ]
  },
  {
   "cell_type": "markdown",
   "id": "fd92e97c",
   "metadata": {},
   "source": [
    "---\n",
    "\n",
    "## C. Common Errors\n",
    "\n",
    "We’ll look at three frequently encountered exceptions and how to handle/prevent them.\n",
    "\n",
    "### 1) `ValueError`\n",
    "Raised when a function receives an argument of the right type but an **invalid value**.\n"
   ]
  },
  {
   "cell_type": "code",
   "execution_count": 62,
   "id": "e74bd1e9",
   "metadata": {},
   "outputs": [
    {
     "name": "stdout",
     "output_type": "stream",
     "text": [
      "int('100') -> 100\n",
      "float('3.14') -> 3.14\n",
      "Neither int nor float: 'abc'\n",
      "int('007') -> 7\n"
     ]
    }
   ],
   "source": [
    "# Example: parsing integers/floats from text\n",
    "samples = [\"100\", \"3.14\", \"abc\", \"007\"]\n",
    "\n",
    "for s in samples:\n",
    "    try:\n",
    "        n = int(s)\n",
    "        print(f\"int('{s}') ->\", n)\n",
    "    except ValueError:\n",
    "        try:\n",
    "            f = float(s)\n",
    "            print(f\"float('{s}') ->\", f)\n",
    "        except ValueError:\n",
    "            print(f\"Neither int nor float: '{s}'\")\n"
   ]
  },
  {
   "cell_type": "markdown",
   "id": "8849d24f",
   "metadata": {},
   "source": [
    "**Prevention tips**\n",
    "- Validate inputs (e.g., `s.isdigit()` for simple integers).\n",
    "- Use `try`/`except` where parsing may fail (file/user input).\n",
    "\n",
    "---\n",
    "\n",
    "### 2) `IndexError`\n",
    "Raised when you use an index that’s **outside** the valid range.\n"
   ]
  },
  {
   "cell_type": "code",
   "execution_count": 63,
   "id": "5bf4539c",
   "metadata": {},
   "outputs": [
    {
     "name": "stdout",
     "output_type": "stream",
     "text": [
      "b\n",
      "[IndexError] list index out of range (idx=10, len=3)\n",
      "(missing)\n"
     ]
    }
   ],
   "source": [
    "data = [\"a\", \"b\", \"c\"]\n",
    "\n",
    "def safe_get(lst, idx, default=None):\n",
    "    try:\n",
    "        return lst[idx]\n",
    "    except IndexError as err:\n",
    "        print(f\"[IndexError] {err} (idx={idx}, len={len(lst)})\")\n",
    "        return default\n",
    "\n",
    "print(safe_get(data, 1))\n",
    "print(safe_get(data, 10, default=\"(missing)\"))\n"
   ]
  },
  {
   "cell_type": "markdown",
   "id": "27d9b2ca",
   "metadata": {},
   "source": [
    "**Prevention tips**\n",
    "- Check bounds: `0 <= idx < len(lst)`\n",
    "- Prefer safe iteration (`for x in lst`) over manual indexing when possible.\n",
    "\n",
    "---\n",
    "\n",
    "### 3) `ZeroDivisionError`\n",
    "Raised on division by zero.\n"
   ]
  },
  {
   "cell_type": "code",
   "execution_count": 64,
   "id": "63fd03e3",
   "metadata": {},
   "outputs": [
    {
     "name": "stdout",
     "output_type": "stream",
     "text": [
      "0.5\n",
      "[ZeroDivisionError] whole is 0; returning 0.0\n",
      "0.0\n"
     ]
    }
   ],
   "source": [
    "def ratio(part, whole):\n",
    "    try:\n",
    "        return part / whole\n",
    "    except ZeroDivisionError:\n",
    "        # decide on a policy: return 0? NaN? raise again?\n",
    "        print(\"[ZeroDivisionError] whole is 0; returning 0.0\")\n",
    "        return 0.0\n",
    "\n",
    "print(ratio(5, 10))\n",
    "print(ratio(5, 0))\n"
   ]
  },
  {
   "cell_type": "markdown",
   "id": "2d900348",
   "metadata": {},
   "source": [
    "**Prevention tips**\n",
    "- Guard clauses: `if whole == 0: ...`\n",
    "- Business rules: decide a consistent fallback (0, `float('nan')`, raise).\n",
    "\n",
    "---\n",
    "\n",
    "## D. Raising Exceptions Yourself (`raise`)\n",
    "\n",
    "Use `raise` when **your code detects an invalid state** and should stop or delegate handling upward.\n"
   ]
  },
  {
   "cell_type": "code",
   "execution_count": 65,
   "id": "84cec435",
   "metadata": {},
   "outputs": [
    {
     "name": "stdout",
     "output_type": "stream",
     "text": [
      "Stored 75.5%\n"
     ]
    }
   ],
   "source": [
    "def set_percentage(x: float):\n",
    "    if not (0.0 <= x <= 100.0):\n",
    "        raise ValueError(f\"Percentage out of range: {x}\")\n",
    "    print(f\"Stored {x}%\")\n",
    "\n",
    "# set_percentage(120)  # Uncomment to see ValueError\n",
    "set_percentage(75.5)\n"
   ]
  },
  {
   "cell_type": "markdown",
   "id": "5a300a7a",
   "metadata": {},
   "source": [
    "---\n",
    "\n",
    "## E. `finally`: Guaranteed Cleanup\n",
    "\n",
    "The `finally` block **always runs**, whether an exception was raised or not.  \n",
    "Use it for **cleanup**: closing files, network sockets, database connections, releasing locks, etc.\n",
    "\n",
    "**Pattern:**\n",
    "```python\n",
    "try:\n",
    "    # do work\n",
    "except SomeError:\n",
    "    # handle\n",
    "finally:\n",
    "    # always executed\n"
   ]
  },
  {
   "cell_type": "code",
   "execution_count": 66,
   "id": "9e845146",
   "metadata": {},
   "outputs": [
    {
     "name": "stdout",
     "output_type": "stream",
     "text": [
      "[ZeroDivisionError in file section] division by zero\n",
      "File closed in finally.\n"
     ]
    }
   ],
   "source": [
    "f = None\n",
    "try:\n",
    "    f = open(\"log.txt\", \"w\", encoding=\"utf-8\")\n",
    "    f.write(\"Starting job...\\n\")\n",
    "    # Simulate an error\n",
    "    x = 1 / 0\n",
    "except ZeroDivisionError as err:\n",
    "    print(\"[ZeroDivisionError in file section]\", err)\n",
    "finally:\n",
    "    if f is not None:\n",
    "        f.close()\n",
    "        print(\"File closed in finally.\")\n"
   ]
  },
  {
   "cell_type": "markdown",
   "id": "9b0555ee",
   "metadata": {},
   "source": [
    "### `try` / `except` / `else` / `finally` (complete form)\n",
    "\n",
    "- `try`: code that may fail  \n",
    "- `except`: handle specific errors  \n",
    "- `else`: runs **only if no exception** occurred in `try`  \n",
    "- `finally`: runs **always** (cleanup)\n",
    "\n"
   ]
  },
  {
   "cell_type": "code",
   "execution_count": 67,
   "id": "921ae4d6",
   "metadata": {},
   "outputs": [
    {
     "name": "stdout",
     "output_type": "stream",
     "text": [
      "42\n",
      "Invalid integer: 'oops'\n",
      "0\n"
     ]
    }
   ],
   "source": [
    "def parse_and_double(s: str) -> int:\n",
    "    try:\n",
    "        n = int(s)\n",
    "    except ValueError:\n",
    "        print(f\"Invalid integer: {s!r}\")\n",
    "        return 0\n",
    "    else:\n",
    "        # Only when parsing succeeded\n",
    "        return 2 * n\n",
    "    finally:\n",
    "        # Always runs\n",
    "        pass  # placeholder: e.g., release a lock, stop a timer, etc.\n",
    "\n",
    "print(parse_and_double(\"21\"))\n",
    "print(parse_and_double(\"oops\"))\n"
   ]
  },
  {
   "cell_type": "markdown",
   "id": "8a10a687",
   "metadata": {},
   "source": [
    "---\n",
    "\n",
    "## F. Good Practices & Anti-Patterns\n",
    "\n",
    "**✅ Do:**\n",
    "- Catch **specific** exceptions first.\n",
    "- Provide **useful messages** (include the bad value/context).\n",
    "- Use `finally` (or context managers) for **cleanup**.\n",
    "- Re-raise (`raise`) if you can’t handle an error meaningfully.\n",
    "\n",
    "**❌ Avoid:**\n",
    "- `except:` bare catches (hide real problems).\n",
    "- Swallowing exceptions silently (no log/message).\n",
    "- Overusing exceptions for normal control flow.\n",
    "\n",
    "---\n",
    "\n",
    "## Summary\n",
    "\n",
    "- Python uses **exceptions** to report errors.\n",
    "- Use `try`/`except` to **handle predictable failures** like `ValueError`, `IndexError`, `ZeroDivisionError`.\n",
    "- Use `raise` to enforce **input validation** and fail fast on bad states.\n",
    "- Use `finally` (or better: context managers) to guarantee **resource cleanup**.\n"
   ]
  },
  {
   "cell_type": "markdown",
   "id": "49938167",
   "metadata": {},
   "source": [
    "## Excercise"
   ]
  },
  {
   "cell_type": "markdown",
   "id": "36d7f004",
   "metadata": {},
   "source": [
    "## 1) Python Fundamentals — variables, types, I/O\n",
    "**Task:**  \n",
    "1. Create variables: `student_name (str)`, `age (int)`, `height_m (float)`, `is_full_time (bool)`.  \n",
    "2. Convert `age` to string and print: `\"Alice is 21 years old.\"` (use an f-string).  \n",
    "3. Ask for a year of birth with `input()` and print the computed age assuming the current year is 2025 (convert types properly).\n"
   ]
  },
  {
   "cell_type": "markdown",
   "id": "affe6ed9",
   "metadata": {},
   "source": [
    "## 2) Operators — arithmetic, relational, logical\n",
    "**Task:**  \n",
    "Given `a = 15`, `b = 4`  \n",
    "1. Compute: sum, difference, product, true division, floor division, modulus, and `a` to the power `b`.  \n",
    "2. Create booleans: `is_multiple_of_3` (for `a`), `b_in_range` (check `1 ≤ b < 10`).  \n",
    "3. Use logical operators to compute `ok = is_multiple_of_3 and b_in_range`.\n"
   ]
  },
  {
   "cell_type": "markdown",
   "id": "06b67b4e",
   "metadata": {},
   "source": [
    "## 3) Strings — indexing, slicing, methods\n",
    "**Task:**  \n",
    "Given `s = \"Data Science\"`  \n",
    "1. Extract first char, last 3 chars, and the substring `\"Sci\"`.  \n",
    "2. Produce a reversed version of `s`.  \n",
    "3. Convert to upper and lower.  \n",
    "4. Split `\"first,last,dept\"` by comma and then join back with `\" | \"`.\n"
   ]
  },
  {
   "cell_type": "markdown",
   "id": "b3abe5f2",
   "metadata": {},
   "source": [
    "## 4) Collections — lists, tuples, sets, dicts\n",
    "**Task:**  \n",
    "1. **List:** Start with `nums = [5, 2, 9]`. Append `7`, insert `3` at index 1, sort ascending.  \n",
    "2. **Tuple:** Create a tuple `point = (3, 4)` and compute its length (no mutation).  \n",
    "3. **Set:** From `[1,2,2,3,4,4]` make a set and compute union and intersection with `{3,4,5}`.  \n",
    "4. **Dict:** Given `student = {\"name\": \"Nikita\", \"scores\": [88, 92, 79]}`, compute the average score. Iterate to print `key: value`.\n"
   ]
  },
  {
   "cell_type": "markdown",
   "id": "5818b90b",
   "metadata": {},
   "source": [
    "## 5) Control Flow — if/elif/else, loops, break/continue/pass\n",
    "**Task:**  \n",
    "1. **If/elif/else:** Categorize `score` into A (≥90), B (≥80), C (≥70), else D/F.  \n",
    "2. **for+range:** Sum all multiples of 3 from 1..50.  \n",
    "3. **Iterate list:** From `vals = [3, -1, 7, 0, -5, 8]`, build `nonnegatives` skipping negatives (use `continue`). Stop when you hit the first 0 (use `break`).  \n",
    "4. **while:** Print powers of 2 up to 1024.  \n",
    "5. Use `pass` as a placeholder inside an empty function `todo()`.\n"
   ]
  },
  {
   "cell_type": "markdown",
   "id": "7b6dc35c",
   "metadata": {},
   "source": [
    "## 6) Functions — def, params, return, scope, lambda\n",
    "**Task:**  \n",
    "1. Define `net_price(price, tax=0.1, discount=0.0)` returning final price: `price * (1+tax) * (1-discount)`.  \n",
    "2. Write `clip(x, lo=0, hi=1)` that clamps `x` into `[lo, hi]`.  \n",
    "3. Show scope: a global `counter = 0`, function `bump()` increments it (use `global`).  \n",
    "4. Use a **lambda** with `sorted` to sort `names = [\"Ada\", \"Grace\", \"Marie\", \"Rosalind\"]` by length, then alphabetically as tiebreaker.\n"
   ]
  },
  {
   "cell_type": "code",
   "execution_count": null,
   "id": "6da1ea13",
   "metadata": {},
   "outputs": [],
   "source": []
  }
 ],
 "metadata": {
  "kernelspec": {
   "display_name": "Python 3",
   "language": "python",
   "name": "python3"
  },
  "language_info": {
   "codemirror_mode": {
    "name": "ipython",
    "version": 3
   },
   "file_extension": ".py",
   "mimetype": "text/x-python",
   "name": "python",
   "nbconvert_exporter": "python",
   "pygments_lexer": "ipython3",
   "version": "3.12.10"
  }
 },
 "nbformat": 4,
 "nbformat_minor": 5
}
